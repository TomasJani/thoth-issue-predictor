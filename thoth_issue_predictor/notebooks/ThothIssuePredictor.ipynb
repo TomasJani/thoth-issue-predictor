{
 "cells": [
  {
   "cell_type": "markdown",
   "metadata": {
    "pycharm": {
     "name": "#%% md\n"
    }
   },
   "source": [
    "# Prepare DF"
   ]
  },
  {
   "cell_type": "code",
   "execution_count": 1,
   "metadata": {},
   "outputs": [
    {
     "data": {
      "text/plain": [
       "'/home/tjanicek/thesis/thoth-issue-predictor'"
      ]
     },
     "execution_count": 1,
     "metadata": {},
     "output_type": "execute_result"
    }
   ],
   "source": [
    "import os\n",
    "import sys\n",
    "\n",
    "module_path = os.path.abspath(os.path.join(\"../..\"))\n",
    "if module_path not in sys.path:\n",
    "    sys.path.append(module_path)\n",
    "\n",
    "module_path"
   ]
  },
  {
   "cell_type": "code",
   "execution_count": 2,
   "metadata": {
    "pycharm": {
     "name": "#%%\n"
    }
   },
   "outputs": [],
   "source": [
    "import graphviz\n",
    "from sklearn.model_selection import train_test_split\n",
    "from sklearn.tree import DecisionTreeClassifier, export_graphviz\n",
    "from catboost import Pool, CatBoostClassifier\n",
    "from datetime import datetime\n",
    "from thoth_issue_predictor.evaluation.metrics import Metrics\n",
    "from thoth_issue_predictor.evaluation.model_evaluation import ModelEvaluation\n",
    "from thoth_issue_predictor.preprocessing.grid_search import (\n",
    "    grid_search_scikit,\n",
    "    grid_search_catboost,\n",
    ")\n",
    "from thoth_issue_predictor.preprocessing.preprocessing import Preprocessing\n",
    "from thoth_issue_predictor.preprocessing.utils import prepare_df"
   ]
  },
  {
   "cell_type": "code",
   "execution_count": 3,
   "metadata": {
    "collapsed": true,
    "jupyter": {
     "outputs_hidden": true
    },
    "pycharm": {
     "name": "#%%\n"
    },
    "tags": []
   },
   "outputs": [],
   "source": [
    "inspections_df = prepare_df()\n",
    "exit_codes = inspections_df[\"exit_code\"]"
   ]
  },
  {
   "cell_type": "code",
   "execution_count": 4,
   "metadata": {
    "collapsed": false,
    "pycharm": {
     "name": "#%%\n"
    }
   },
   "outputs": [],
   "source": [
    "preprocessing = Preprocessing(inspections_df)\n",
    "issues_df, python_indexes = preprocessing.create_df()"
   ]
  },
  {
   "cell_type": "code",
   "execution_count": 5,
   "metadata": {
    "collapsed": false,
    "pycharm": {
     "name": "#%%\n"
    }
   },
   "outputs": [],
   "source": [
    "issues_df[\"exit_code\"] = exit_codes.astype(\"int\")\n",
    "issues_df = issues_df.loc[\n",
    "    (issues_df.loc[:, issues_df.columns != \"exit_code\"] != 0).any(axis=1)\n",
    "]\n",
    "issues_df = issues_df.drop_duplicates()"
   ]
  },
  {
   "cell_type": "code",
   "execution_count": 6,
   "metadata": {
    "collapsed": false,
    "pycharm": {
     "name": "#%%\n"
    }
   },
   "outputs": [
    {
     "data": {
      "text/plain": [
       "['unknown', 'pypi-org-simple', 'pypi-org', 'aicoe', 'pypi']"
      ]
     },
     "execution_count": 6,
     "metadata": {},
     "output_type": "execute_result"
    }
   ],
   "source": [
    "python_indexes"
   ]
  },
  {
   "cell_type": "code",
   "execution_count": 7,
   "metadata": {
    "pycharm": {
     "name": "#%%\n"
    }
   },
   "outputs": [
    {
     "name": "stdout",
     "output_type": "stream",
     "text": [
      "Length of DF is 1947\n"
     ]
    },
    {
     "data": {
      "text/html": [
       "<div>\n",
       "<style scoped>\n",
       "    .dataframe tbody tr th:only-of-type {\n",
       "        vertical-align: middle;\n",
       "    }\n",
       "\n",
       "    .dataframe tbody tr th {\n",
       "        vertical-align: top;\n",
       "    }\n",
       "\n",
       "    .dataframe thead th {\n",
       "        text-align: right;\n",
       "    }\n",
       "</style>\n",
       "<table border=\"1\" class=\"dataframe\">\n",
       "  <thead>\n",
       "    <tr style=\"text-align: right;\">\n",
       "      <th></th>\n",
       "      <th>python</th>\n",
       "      <th>tensorflow_major</th>\n",
       "      <th>tensorflow_minor</th>\n",
       "      <th>tensorflow_micro</th>\n",
       "      <th>tensorflow_index</th>\n",
       "      <th>flatbuffers_major</th>\n",
       "      <th>flatbuffers_minor</th>\n",
       "      <th>flatbuffers_micro</th>\n",
       "      <th>flatbuffers_index</th>\n",
       "      <th>six_major</th>\n",
       "      <th>...</th>\n",
       "      <th>pyyaml_index</th>\n",
       "      <th>torch_major</th>\n",
       "      <th>torch_minor</th>\n",
       "      <th>torch_micro</th>\n",
       "      <th>torch_index</th>\n",
       "      <th>tensorflow-cpu_major</th>\n",
       "      <th>tensorflow-cpu_minor</th>\n",
       "      <th>tensorflow-cpu_micro</th>\n",
       "      <th>tensorflow-cpu_index</th>\n",
       "      <th>exit_code</th>\n",
       "    </tr>\n",
       "  </thead>\n",
       "  <tbody>\n",
       "    <tr>\n",
       "      <th>0</th>\n",
       "      <td>38</td>\n",
       "      <td>2</td>\n",
       "      <td>4</td>\n",
       "      <td>1</td>\n",
       "      <td>1</td>\n",
       "      <td>1</td>\n",
       "      <td>12</td>\n",
       "      <td>0</td>\n",
       "      <td>1</td>\n",
       "      <td>1</td>\n",
       "      <td>...</td>\n",
       "      <td>0</td>\n",
       "      <td>0</td>\n",
       "      <td>0</td>\n",
       "      <td>0</td>\n",
       "      <td>0</td>\n",
       "      <td>0</td>\n",
       "      <td>0</td>\n",
       "      <td>0</td>\n",
       "      <td>0</td>\n",
       "      <td>0</td>\n",
       "    </tr>\n",
       "    <tr>\n",
       "      <th>1</th>\n",
       "      <td>38</td>\n",
       "      <td>2</td>\n",
       "      <td>4</td>\n",
       "      <td>1</td>\n",
       "      <td>1</td>\n",
       "      <td>1</td>\n",
       "      <td>12</td>\n",
       "      <td>0</td>\n",
       "      <td>1</td>\n",
       "      <td>1</td>\n",
       "      <td>...</td>\n",
       "      <td>0</td>\n",
       "      <td>0</td>\n",
       "      <td>0</td>\n",
       "      <td>0</td>\n",
       "      <td>0</td>\n",
       "      <td>0</td>\n",
       "      <td>0</td>\n",
       "      <td>0</td>\n",
       "      <td>0</td>\n",
       "      <td>0</td>\n",
       "    </tr>\n",
       "    <tr>\n",
       "      <th>2</th>\n",
       "      <td>38</td>\n",
       "      <td>2</td>\n",
       "      <td>4</td>\n",
       "      <td>1</td>\n",
       "      <td>1</td>\n",
       "      <td>1</td>\n",
       "      <td>12</td>\n",
       "      <td>0</td>\n",
       "      <td>1</td>\n",
       "      <td>1</td>\n",
       "      <td>...</td>\n",
       "      <td>0</td>\n",
       "      <td>0</td>\n",
       "      <td>0</td>\n",
       "      <td>0</td>\n",
       "      <td>0</td>\n",
       "      <td>0</td>\n",
       "      <td>0</td>\n",
       "      <td>0</td>\n",
       "      <td>0</td>\n",
       "      <td>0</td>\n",
       "    </tr>\n",
       "    <tr>\n",
       "      <th>3</th>\n",
       "      <td>36</td>\n",
       "      <td>2</td>\n",
       "      <td>1</td>\n",
       "      <td>0</td>\n",
       "      <td>2</td>\n",
       "      <td>0</td>\n",
       "      <td>0</td>\n",
       "      <td>0</td>\n",
       "      <td>0</td>\n",
       "      <td>1</td>\n",
       "      <td>...</td>\n",
       "      <td>0</td>\n",
       "      <td>0</td>\n",
       "      <td>0</td>\n",
       "      <td>0</td>\n",
       "      <td>0</td>\n",
       "      <td>0</td>\n",
       "      <td>0</td>\n",
       "      <td>0</td>\n",
       "      <td>0</td>\n",
       "      <td>0</td>\n",
       "    </tr>\n",
       "    <tr>\n",
       "      <th>4</th>\n",
       "      <td>38</td>\n",
       "      <td>2</td>\n",
       "      <td>4</td>\n",
       "      <td>0</td>\n",
       "      <td>1</td>\n",
       "      <td>1</td>\n",
       "      <td>12</td>\n",
       "      <td>0</td>\n",
       "      <td>1</td>\n",
       "      <td>1</td>\n",
       "      <td>...</td>\n",
       "      <td>0</td>\n",
       "      <td>0</td>\n",
       "      <td>0</td>\n",
       "      <td>0</td>\n",
       "      <td>0</td>\n",
       "      <td>0</td>\n",
       "      <td>0</td>\n",
       "      <td>0</td>\n",
       "      <td>0</td>\n",
       "      <td>0</td>\n",
       "    </tr>\n",
       "  </tbody>\n",
       "</table>\n",
       "<p>5 rows × 234 columns</p>\n",
       "</div>"
      ],
      "text/plain": [
       "   python  tensorflow_major  tensorflow_minor  tensorflow_micro  \\\n",
       "0      38                 2                 4                 1   \n",
       "1      38                 2                 4                 1   \n",
       "2      38                 2                 4                 1   \n",
       "3      36                 2                 1                 0   \n",
       "4      38                 2                 4                 0   \n",
       "\n",
       "   tensorflow_index  flatbuffers_major  flatbuffers_minor  flatbuffers_micro  \\\n",
       "0                 1                  1                 12                  0   \n",
       "1                 1                  1                 12                  0   \n",
       "2                 1                  1                 12                  0   \n",
       "3                 2                  0                  0                  0   \n",
       "4                 1                  1                 12                  0   \n",
       "\n",
       "   flatbuffers_index  six_major  ...  pyyaml_index  torch_major  torch_minor  \\\n",
       "0                  1          1  ...             0            0            0   \n",
       "1                  1          1  ...             0            0            0   \n",
       "2                  1          1  ...             0            0            0   \n",
       "3                  0          1  ...             0            0            0   \n",
       "4                  1          1  ...             0            0            0   \n",
       "\n",
       "   torch_micro  torch_index  tensorflow-cpu_major  tensorflow-cpu_minor  \\\n",
       "0            0            0                     0                     0   \n",
       "1            0            0                     0                     0   \n",
       "2            0            0                     0                     0   \n",
       "3            0            0                     0                     0   \n",
       "4            0            0                     0                     0   \n",
       "\n",
       "   tensorflow-cpu_micro  tensorflow-cpu_index  exit_code  \n",
       "0                     0                     0          0  \n",
       "1                     0                     0          0  \n",
       "2                     0                     0          0  \n",
       "3                     0                     0          0  \n",
       "4                     0                     0          0  \n",
       "\n",
       "[5 rows x 234 columns]"
      ]
     },
     "execution_count": 7,
     "metadata": {},
     "output_type": "execute_result"
    }
   ],
   "source": [
    "print(f\"Length of DF is {len(issues_df)}\")\n",
    "issues_df.head(5)"
   ]
  },
  {
   "cell_type": "markdown",
   "metadata": {
    "pycharm": {
     "name": "#%% md\n"
    }
   },
   "source": [
    "# Failed inspections"
   ]
  },
  {
   "cell_type": "code",
   "execution_count": 8,
   "metadata": {
    "pycharm": {
     "name": "#%%\n"
    }
   },
   "outputs": [
    {
     "name": "stdout",
     "output_type": "stream",
     "text": [
      "Number of failed inspections: 102\n"
     ]
    },
    {
     "data": {
      "text/html": [
       "<div>\n",
       "<style scoped>\n",
       "    .dataframe tbody tr th:only-of-type {\n",
       "        vertical-align: middle;\n",
       "    }\n",
       "\n",
       "    .dataframe tbody tr th {\n",
       "        vertical-align: top;\n",
       "    }\n",
       "\n",
       "    .dataframe thead th {\n",
       "        text-align: right;\n",
       "    }\n",
       "</style>\n",
       "<table border=\"1\" class=\"dataframe\">\n",
       "  <thead>\n",
       "    <tr style=\"text-align: right;\">\n",
       "      <th></th>\n",
       "      <th>python</th>\n",
       "      <th>tensorflow_major</th>\n",
       "      <th>tensorflow_minor</th>\n",
       "      <th>tensorflow_micro</th>\n",
       "      <th>tensorflow_index</th>\n",
       "      <th>flatbuffers_major</th>\n",
       "      <th>flatbuffers_minor</th>\n",
       "      <th>flatbuffers_micro</th>\n",
       "      <th>flatbuffers_index</th>\n",
       "      <th>six_major</th>\n",
       "      <th>...</th>\n",
       "      <th>pyyaml_index</th>\n",
       "      <th>torch_major</th>\n",
       "      <th>torch_minor</th>\n",
       "      <th>torch_micro</th>\n",
       "      <th>torch_index</th>\n",
       "      <th>tensorflow-cpu_major</th>\n",
       "      <th>tensorflow-cpu_minor</th>\n",
       "      <th>tensorflow-cpu_micro</th>\n",
       "      <th>tensorflow-cpu_index</th>\n",
       "      <th>exit_code</th>\n",
       "    </tr>\n",
       "  </thead>\n",
       "  <tbody>\n",
       "    <tr>\n",
       "      <th>1896</th>\n",
       "      <td>36</td>\n",
       "      <td>2</td>\n",
       "      <td>1</td>\n",
       "      <td>0</td>\n",
       "      <td>2</td>\n",
       "      <td>0</td>\n",
       "      <td>0</td>\n",
       "      <td>0</td>\n",
       "      <td>0</td>\n",
       "      <td>1</td>\n",
       "      <td>...</td>\n",
       "      <td>0</td>\n",
       "      <td>0</td>\n",
       "      <td>0</td>\n",
       "      <td>0</td>\n",
       "      <td>0</td>\n",
       "      <td>0</td>\n",
       "      <td>0</td>\n",
       "      <td>0</td>\n",
       "      <td>0</td>\n",
       "      <td>1</td>\n",
       "    </tr>\n",
       "    <tr>\n",
       "      <th>1897</th>\n",
       "      <td>36</td>\n",
       "      <td>2</td>\n",
       "      <td>1</td>\n",
       "      <td>0</td>\n",
       "      <td>2</td>\n",
       "      <td>0</td>\n",
       "      <td>0</td>\n",
       "      <td>0</td>\n",
       "      <td>0</td>\n",
       "      <td>1</td>\n",
       "      <td>...</td>\n",
       "      <td>0</td>\n",
       "      <td>0</td>\n",
       "      <td>0</td>\n",
       "      <td>0</td>\n",
       "      <td>0</td>\n",
       "      <td>0</td>\n",
       "      <td>0</td>\n",
       "      <td>0</td>\n",
       "      <td>0</td>\n",
       "      <td>1</td>\n",
       "    </tr>\n",
       "    <tr>\n",
       "      <th>1898</th>\n",
       "      <td>36</td>\n",
       "      <td>2</td>\n",
       "      <td>1</td>\n",
       "      <td>0</td>\n",
       "      <td>2</td>\n",
       "      <td>0</td>\n",
       "      <td>0</td>\n",
       "      <td>0</td>\n",
       "      <td>0</td>\n",
       "      <td>1</td>\n",
       "      <td>...</td>\n",
       "      <td>0</td>\n",
       "      <td>0</td>\n",
       "      <td>0</td>\n",
       "      <td>0</td>\n",
       "      <td>0</td>\n",
       "      <td>0</td>\n",
       "      <td>0</td>\n",
       "      <td>0</td>\n",
       "      <td>0</td>\n",
       "      <td>1</td>\n",
       "    </tr>\n",
       "    <tr>\n",
       "      <th>1899</th>\n",
       "      <td>36</td>\n",
       "      <td>2</td>\n",
       "      <td>1</td>\n",
       "      <td>0</td>\n",
       "      <td>2</td>\n",
       "      <td>0</td>\n",
       "      <td>0</td>\n",
       "      <td>0</td>\n",
       "      <td>0</td>\n",
       "      <td>1</td>\n",
       "      <td>...</td>\n",
       "      <td>0</td>\n",
       "      <td>0</td>\n",
       "      <td>0</td>\n",
       "      <td>0</td>\n",
       "      <td>0</td>\n",
       "      <td>0</td>\n",
       "      <td>0</td>\n",
       "      <td>0</td>\n",
       "      <td>0</td>\n",
       "      <td>1</td>\n",
       "    </tr>\n",
       "    <tr>\n",
       "      <th>1900</th>\n",
       "      <td>36</td>\n",
       "      <td>2</td>\n",
       "      <td>1</td>\n",
       "      <td>0</td>\n",
       "      <td>2</td>\n",
       "      <td>0</td>\n",
       "      <td>0</td>\n",
       "      <td>0</td>\n",
       "      <td>0</td>\n",
       "      <td>1</td>\n",
       "      <td>...</td>\n",
       "      <td>0</td>\n",
       "      <td>0</td>\n",
       "      <td>0</td>\n",
       "      <td>0</td>\n",
       "      <td>0</td>\n",
       "      <td>0</td>\n",
       "      <td>0</td>\n",
       "      <td>0</td>\n",
       "      <td>0</td>\n",
       "      <td>1</td>\n",
       "    </tr>\n",
       "  </tbody>\n",
       "</table>\n",
       "<p>5 rows × 234 columns</p>\n",
       "</div>"
      ],
      "text/plain": [
       "      python  tensorflow_major  tensorflow_minor  tensorflow_micro  \\\n",
       "1896      36                 2                 1                 0   \n",
       "1897      36                 2                 1                 0   \n",
       "1898      36                 2                 1                 0   \n",
       "1899      36                 2                 1                 0   \n",
       "1900      36                 2                 1                 0   \n",
       "\n",
       "      tensorflow_index  flatbuffers_major  flatbuffers_minor  \\\n",
       "1896                 2                  0                  0   \n",
       "1897                 2                  0                  0   \n",
       "1898                 2                  0                  0   \n",
       "1899                 2                  0                  0   \n",
       "1900                 2                  0                  0   \n",
       "\n",
       "      flatbuffers_micro  flatbuffers_index  six_major  ...  pyyaml_index  \\\n",
       "1896                  0                  0          1  ...             0   \n",
       "1897                  0                  0          1  ...             0   \n",
       "1898                  0                  0          1  ...             0   \n",
       "1899                  0                  0          1  ...             0   \n",
       "1900                  0                  0          1  ...             0   \n",
       "\n",
       "      torch_major  torch_minor  torch_micro  torch_index  \\\n",
       "1896            0            0            0            0   \n",
       "1897            0            0            0            0   \n",
       "1898            0            0            0            0   \n",
       "1899            0            0            0            0   \n",
       "1900            0            0            0            0   \n",
       "\n",
       "      tensorflow-cpu_major  tensorflow-cpu_minor  tensorflow-cpu_micro  \\\n",
       "1896                     0                     0                     0   \n",
       "1897                     0                     0                     0   \n",
       "1898                     0                     0                     0   \n",
       "1899                     0                     0                     0   \n",
       "1900                     0                     0                     0   \n",
       "\n",
       "      tensorflow-cpu_index  exit_code  \n",
       "1896                     0          1  \n",
       "1897                     0          1  \n",
       "1898                     0          1  \n",
       "1899                     0          1  \n",
       "1900                     0          1  \n",
       "\n",
       "[5 rows x 234 columns]"
      ]
     },
     "execution_count": 8,
     "metadata": {},
     "output_type": "execute_result"
    }
   ],
   "source": [
    "failed_inspections = issues_df[issues_df[\"exit_code\"] == 1]\n",
    "print(f\"Number of failed inspections: {len(failed_inspections)}\")\n",
    "failed_inspections.head()"
   ]
  },
  {
   "cell_type": "markdown",
   "metadata": {
    "pycharm": {
     "name": "#%% md\n"
    }
   },
   "source": [
    "# Decision Trees"
   ]
  },
  {
   "cell_type": "code",
   "execution_count": 9,
   "metadata": {
    "collapsed": false,
    "pycharm": {
     "name": "#%%\n"
    }
   },
   "outputs": [],
   "source": [
    "issue_x, exit_codes = issues_df.drop(\"exit_code\", axis=1), issues_df[\"exit_code\"]\n",
    "\n",
    "X_train, X_test, y_train, y_test = train_test_split(\n",
    "    issue_x, exit_codes, test_size=0.4, random_state=0\n",
    ")"
   ]
  },
  {
   "cell_type": "markdown",
   "metadata": {
    "collapsed": false
   },
   "source": [
    "## Scikit CART model"
   ]
  },
  {
   "cell_type": "code",
   "execution_count": 10,
   "metadata": {
    "collapsed": true,
    "jupyter": {
     "outputs_hidden": true
    },
    "pycharm": {
     "name": "#%%\n"
    },
    "tags": []
   },
   "outputs": [
    {
     "data": {
      "text/plain": [
       "{'max_depth': 5,\n",
       " 'min_samples_leaf': 3,\n",
       " 'min_samples_split': 8,\n",
       " 'random_state': 20,\n",
       " 'splitter': 'random'}"
      ]
     },
     "execution_count": 10,
     "metadata": {},
     "output_type": "execute_result"
    }
   ],
   "source": [
    "best_params = grid_search_scikit(X_train, y_train)\n",
    "best_params"
   ]
  },
  {
   "cell_type": "code",
   "execution_count": 11,
   "metadata": {
    "pycharm": {
     "name": "#%%\n"
    }
   },
   "outputs": [],
   "source": [
    "clf = DecisionTreeClassifier(**best_params)\n",
    "\n",
    "start = datetime.now()\n",
    "clf.fit(X_train, y_train)\n",
    "end = datetime.now()\n",
    "\n",
    "pred = clf.predict(X_test)"
   ]
  },
  {
   "cell_type": "code",
   "execution_count": 12,
   "metadata": {
    "pycharm": {
     "name": "#%%\n"
    }
   },
   "outputs": [
    {
     "data": {
      "text/plain": [
       "'trees/ThothIssuePredictor.pdf'"
      ]
     },
     "execution_count": 12,
     "metadata": {},
     "output_type": "execute_result"
    }
   ],
   "source": [
    "feature_names = issue_x.columns\n",
    "target_names = [\"successful\", \"failed\"]\n",
    "dot_data = export_graphviz(\n",
    "    clf,\n",
    "    out_file=None,\n",
    "    feature_names=feature_names,\n",
    "    class_names=target_names,\n",
    "    filled=True,\n",
    "    rounded=True,\n",
    "    special_characters=True,\n",
    ")\n",
    "graph = graphviz.Source(dot_data)\n",
    "graph.render(\"trees/ThothIssuePredictor\", format=\"pdf\")"
   ]
  },
  {
   "cell_type": "code",
   "execution_count": 13,
   "metadata": {
    "collapsed": false,
    "pycharm": {
     "name": "#%%\n"
    }
   },
   "outputs": [
    {
     "name": "stdout",
     "output_type": "stream",
     "text": [
      "Train time: 0:00:00.006842\n",
      "Number of errors: 9\n",
      "AUC: 0.9453395703395702\n",
      "Accuracy Score: 0.9884467265725289\n",
      "F1 weighted: 0.9885159427842972\n",
      "F1 micro: 0.9884467265725289\n",
      "F1 macro: 0.93999537833466\n",
      "              precision    recall  f1-score   support\n",
      "\n",
      "           0       0.99      0.99      0.99       740\n",
      "           1       0.88      0.90      0.89        39\n",
      "\n",
      "    accuracy                           0.99       779\n",
      "   macro avg       0.93      0.95      0.94       779\n",
      "weighted avg       0.99      0.99      0.99       779\n",
      "\n",
      "Confusion matrix for scikit\n",
      "[[735   5]\n",
      " [  4  35]]\n"
     ]
    },
    {
     "data": {
      "image/png": "[encoded data removed]",
      "text/plain": [
       "<Figure size 432x288 with 2 Axes>"
      ]
     },
     "metadata": {
      "needs_background": "light"
     },
     "output_type": "display_data"
    }
   ],
   "source": [
    "scikit_evaluation = ModelEvaluation(\"scikit\", clf, end - start, X_test, y_test)\n",
    "scikit_evaluation.predict_and_save()\n",
    "scikit_evaluation.print()"
   ]
  },
  {
   "cell_type": "markdown",
   "metadata": {
    "collapsed": false,
    "pycharm": {
     "name": "#%% md\n"
    }
   },
   "source": [
    "## CatBoost GBDT model"
   ]
  },
  {
   "cell_type": "code",
   "execution_count": 14,
   "metadata": {
    "pycharm": {
     "name": "#%%\n"
    }
   },
   "outputs": [],
   "source": [
    "cat_features = [f for f in feature_names if \"_index\" in f]\n",
    "\n",
    "issue_pool = Pool(issue_x, exit_codes, cat_features=cat_features)\n",
    "train_pool = Pool(X_train, y_train, cat_features=cat_features)\n",
    "test_pool = Pool(X_test, y_test, cat_features=cat_features)"
   ]
  },
  {
   "cell_type": "code",
   "execution_count": 15,
   "metadata": {
    "pycharm": {
     "name": "#%%\n"
    }
   },
   "outputs": [
    {
     "name": "stdout",
     "output_type": "stream",
     "text": [
      "\n",
      "bestTest = 0.995734127\n",
      "bestIteration = 19\n",
      "\n",
      "Metric AUC is not calculated on train by default. To calculate this metric on train, add hints=skip_train~false to metric parameters.\n",
      "\n",
      "bestTest = 0.9953373016\n",
      "bestIteration = 23\n",
      "\n",
      "Metric AUC is not calculated on train by default. To calculate this metric on train, add hints=skip_train~false to metric parameters.\n",
      "\n",
      "bestTest = 0.9956349206\n",
      "bestIteration = 37\n",
      "\n",
      "Metric AUC is not calculated on train by default. To calculate this metric on train, add hints=skip_train~false to metric parameters.\n",
      "\n",
      "bestTest = 0.995734127\n",
      "bestIteration = 19\n",
      "\n",
      "Metric AUC is not calculated on train by default. To calculate this metric on train, add hints=skip_train~false to metric parameters.\n",
      "\n",
      "bestTest = 0.9953373016\n",
      "bestIteration = 23\n",
      "\n",
      "Metric AUC is not calculated on train by default. To calculate this metric on train, add hints=skip_train~false to metric parameters.\n",
      "\n",
      "bestTest = 0.9956349206\n",
      "bestIteration = 37\n",
      "\n",
      "Metric AUC is not calculated on train by default. To calculate this metric on train, add hints=skip_train~false to metric parameters.\n",
      "\n",
      "bestTest = 0.998015873\n",
      "bestIteration = 23\n",
      "\n",
      "Metric AUC is not calculated on train by default. To calculate this metric on train, add hints=skip_train~false to metric parameters.\n",
      "\n",
      "bestTest = 0.998015873\n",
      "bestIteration = 22\n",
      "\n",
      "Metric AUC is not calculated on train by default. To calculate this metric on train, add hints=skip_train~false to metric parameters.\n",
      "\n",
      "bestTest = 0.9978174603\n",
      "bestIteration = 23\n",
      "\n",
      "Metric AUC is not calculated on train by default. To calculate this metric on train, add hints=skip_train~false to metric parameters.\n",
      "\n",
      "bestTest = 0.998015873\n",
      "bestIteration = 23\n",
      "\n",
      "Metric AUC is not calculated on train by default. To calculate this metric on train, add hints=skip_train~false to metric parameters.\n",
      "\n",
      "bestTest = 0.998015873\n",
      "bestIteration = 22\n",
      "\n",
      "Metric AUC is not calculated on train by default. To calculate this metric on train, add hints=skip_train~false to metric parameters.\n",
      "\n",
      "bestTest = 0.9978174603\n",
      "bestIteration = 23\n",
      "\n",
      "Metric AUC is not calculated on train by default. To calculate this metric on train, add hints=skip_train~false to metric parameters.\n",
      "\n",
      "bestTest = 0.9982142857\n",
      "bestIteration = 33\n",
      "\n",
      "Metric AUC is not calculated on train by default. To calculate this metric on train, add hints=skip_train~false to metric parameters.\n",
      "\n",
      "bestTest = 0.9968253968\n",
      "bestIteration = 36\n",
      "\n",
      "Metric AUC is not calculated on train by default. To calculate this metric on train, add hints=skip_train~false to metric parameters.\n",
      "\n",
      "bestTest = 0.9974206349\n",
      "bestIteration = 37\n",
      "\n",
      "Metric AUC is not calculated on train by default. To calculate this metric on train, add hints=skip_train~false to metric parameters.\n",
      "\n",
      "bestTest = 0.9982142857\n",
      "bestIteration = 33\n",
      "\n",
      "Metric AUC is not calculated on train by default. To calculate this metric on train, add hints=skip_train~false to metric parameters.\n",
      "\n",
      "bestTest = 0.9968253968\n",
      "bestIteration = 36\n",
      "\n",
      "Metric AUC is not calculated on train by default. To calculate this metric on train, add hints=skip_train~false to metric parameters.\n",
      "\n",
      "bestTest = 0.9974206349\n",
      "bestIteration = 37\n",
      "\n",
      "Metric AUC is not calculated on train by default. To calculate this metric on train, add hints=skip_train~false to metric parameters.\n",
      "\n",
      "bestTest = 0.9982142857\n",
      "bestIteration = 49\n",
      "\n",
      "Metric AUC is not calculated on train by default. To calculate this metric on train, add hints=skip_train~false to metric parameters.\n",
      "\n",
      "bestTest = 0.9976190476\n",
      "bestIteration = 33\n",
      "\n",
      "Metric AUC is not calculated on train by default. To calculate this metric on train, add hints=skip_train~false to metric parameters.\n",
      "\n",
      "bestTest = 0.9976190476\n",
      "bestIteration = 46\n",
      "\n",
      "Metric AUC is not calculated on train by default. To calculate this metric on train, add hints=skip_train~false to metric parameters.\n"
     ]
    }
   ],
   "source": [
    "best_params = grid_search_catboost(train_pool)"
   ]
  },
  {
   "cell_type": "code",
   "execution_count": 16,
   "metadata": {
    "collapsed": false,
    "pycharm": {
     "name": "#%%\n"
    }
   },
   "outputs": [
    {
     "data": {
      "text/plain": [
       "{'depth': 6,\n",
       " 'l2_leaf_reg': 3,\n",
       " 'iterations': 1000,\n",
       " 'verbose': False,\n",
       " 'eval_metric': 'AUC',\n",
       " 'loss_function': 'Logloss',\n",
       " 'leaf_estimation_iterations': 10}"
      ]
     },
     "execution_count": 16,
     "metadata": {},
     "output_type": "execute_result"
    }
   ],
   "source": [
    "clf = CatBoostClassifier(use_best_model=True, **best_params)\n",
    "best_params"
   ]
  },
  {
   "cell_type": "code",
   "execution_count": 17,
   "metadata": {
    "collapsed": false,
    "pycharm": {
     "name": "#%%\n"
    }
   },
   "outputs": [],
   "source": [
    "clf.tree_count_"
   ]
  },
  {
   "cell_type": "code",
   "execution_count": 18,
   "metadata": {
    "collapsed": false,
    "pycharm": {
     "name": "#%%\n"
    }
   },
   "outputs": [],
   "source": [
    "start = datetime.now()\n",
    "clf.fit(train_pool, eval_set=train_pool)\n",
    "end = datetime.now()\n",
    "\n",
    "pred = clf.predict(test_pool)"
   ]
  },
  {
   "cell_type": "code",
   "execution_count": 19,
   "metadata": {
    "collapsed": false,
    "pycharm": {
     "name": "#%%\n"
    }
   },
   "outputs": [
    {
     "data": {
      "text/plain": [
       "'trees/ThothIssuePredictorBoost.pdf'"
      ]
     },
     "execution_count": 19,
     "metadata": {},
     "output_type": "execute_result"
    }
   ],
   "source": [
    "dot_data = clf.plot_tree(1, pool=test_pool)\n",
    "graph = graphviz.Source(dot_data)\n",
    "graph.render(\"trees/ThothIssuePredictorBoost\", format=\"pdf\")"
   ]
  },
  {
   "cell_type": "code",
   "execution_count": 20,
   "metadata": {
    "collapsed": false,
    "pycharm": {
     "name": "#%%\n"
    }
   },
   "outputs": [
    {
     "name": "stdout",
     "output_type": "stream",
     "text": [
      "Train time: 0:00:10.943010\n",
      "Number of errors: 6\n",
      "AUC: 0.9230769230769231\n",
      "Accuracy Score: 0.9922978177150192\n",
      "F1 weighted: 0.991992442946318\n",
      "F1 micro: 0.9922978177150192\n",
      "F1 macro: 0.9563144908030508\n",
      "              precision    recall  f1-score   support\n",
      "\n",
      "           0       0.99      1.00      1.00       740\n",
      "           1       1.00      0.85      0.92        39\n",
      "\n",
      "    accuracy                           0.99       779\n",
      "   macro avg       1.00      0.92      0.96       779\n",
      "weighted avg       0.99      0.99      0.99       779\n",
      "\n",
      "Confusion matrix for catboost\n",
      "[[740   0]\n",
      " [  6  33]]\n"
     ]
    },
    {
     "data": {
      "image/png": "[encoded data removed]",
      "text/plain": [
       "<Figure size 432x288 with 2 Axes>"
      ]
     },
     "metadata": {
      "needs_background": "light"
     },
     "output_type": "display_data"
    }
   ],
   "source": [
    "catboost_evaluation = ModelEvaluation(\"catboost\", clf, end - start, X_test, y_test)\n",
    "catboost_evaluation.predict_and_save()\n",
    "catboost_evaluation.print()"
   ]
  },
  {
   "cell_type": "markdown",
   "execution_count": 21,
   "metadata": {
    "collapsed": false,
    "pycharm": {
     "name": "#%% md\n"
    }
   },
   "outputs": [
    {
     "data": {
      "text/html": "<div>\n<style scoped>\n    .dataframe tbody tr th:only-of-type {\n        vertical-align: middle;\n    }\n\n    .dataframe tbody tr th {\n        vertical-align: top;\n    }\n\n    .dataframe thead th {\n        text-align: right;\n    }\n</style>\n<table border=\"1\" class=\"dataframe\">\n  <thead>\n    <tr style=\"text-align: right;\">\n      <th></th>\n      <th>iterations</th>\n      <th>test-AUC-mean</th>\n      <th>test-AUC-std</th>\n      <th>test-Logloss-mean</th>\n      <th>test-Logloss-std</th>\n      <th>train-Logloss-mean</th>\n      <th>train-Logloss-std</th>\n    </tr>\n  </thead>\n  <tbody>\n    <tr>\n      <th>0</th>\n      <td>0</td>\n      <td>0.954960</td>\n      <td>0.007816</td>\n      <td>0.623425</td>\n      <td>0.001968</td>\n      <td>0.622717</td>\n      <td>0.000376</td>\n    </tr>\n    <tr>\n      <th>1</th>\n      <td>1</td>\n      <td>0.974542</td>\n      <td>0.004537</td>\n      <td>0.565738</td>\n      <td>0.012062</td>\n      <td>0.565798</td>\n      <td>0.009917</td>\n    </tr>\n    <tr>\n      <th>2</th>\n      <td>2</td>\n      <td>0.982789</td>\n      <td>0.008002</td>\n      <td>0.512249</td>\n      <td>0.009236</td>\n      <td>0.511424</td>\n      <td>0.007609</td>\n    </tr>\n    <tr>\n      <th>3</th>\n      <td>3</td>\n      <td>0.985406</td>\n      <td>0.006432</td>\n      <td>0.468349</td>\n      <td>0.018789</td>\n      <td>0.467764</td>\n      <td>0.017121</td>\n    </tr>\n    <tr>\n      <th>4</th>\n      <td>4</td>\n      <td>0.987592</td>\n      <td>0.009734</td>\n      <td>0.421707</td>\n      <td>0.017859</td>\n      <td>0.421007</td>\n      <td>0.016913</td>\n    </tr>\n    <tr>\n      <th>...</th>\n      <td>...</td>\n      <td>...</td>\n      <td>...</td>\n      <td>...</td>\n      <td>...</td>\n      <td>...</td>\n      <td>...</td>\n    </tr>\n    <tr>\n      <th>995</th>\n      <td>995</td>\n      <td>0.995266</td>\n      <td>0.006695</td>\n      <td>0.028982</td>\n      <td>0.031662</td>\n      <td>0.000451</td>\n      <td>0.000385</td>\n    </tr>\n    <tr>\n      <th>996</th>\n      <td>996</td>\n      <td>0.995266</td>\n      <td>0.006695</td>\n      <td>0.028979</td>\n      <td>0.031666</td>\n      <td>0.000451</td>\n      <td>0.000384</td>\n    </tr>\n    <tr>\n      <th>997</th>\n      <td>997</td>\n      <td>0.995266</td>\n      <td>0.006695</td>\n      <td>0.028981</td>\n      <td>0.031664</td>\n      <td>0.000451</td>\n      <td>0.000384</td>\n    </tr>\n    <tr>\n      <th>998</th>\n      <td>998</td>\n      <td>0.995266</td>\n      <td>0.006695</td>\n      <td>0.028978</td>\n      <td>0.031668</td>\n      <td>0.000450</td>\n      <td>0.000384</td>\n    </tr>\n    <tr>\n      <th>999</th>\n      <td>999</td>\n      <td>0.995266</td>\n      <td>0.006695</td>\n      <td>0.028981</td>\n      <td>0.031664</td>\n      <td>0.000450</td>\n      <td>0.000383</td>\n    </tr>\n  </tbody>\n</table>\n<p>1000 rows × 7 columns</p>\n</div>",
      "text/plain": "     iterations  test-AUC-mean  test-AUC-std  test-Logloss-mean  \\\n0             0       0.954960      0.007816           0.623425   \n1             1       0.974542      0.004537           0.565738   \n2             2       0.982789      0.008002           0.512249   \n3             3       0.985406      0.006432           0.468349   \n4             4       0.987592      0.009734           0.421707   \n..          ...            ...           ...                ...   \n995         995       0.995266      0.006695           0.028982   \n996         996       0.995266      0.006695           0.028979   \n997         997       0.995266      0.006695           0.028981   \n998         998       0.995266      0.006695           0.028978   \n999         999       0.995266      0.006695           0.028981   \n\n     test-Logloss-std  train-Logloss-mean  train-Logloss-std  \n0            0.001968            0.622717           0.000376  \n1            0.012062            0.565798           0.009917  \n2            0.009236            0.511424           0.007609  \n3            0.018789            0.467764           0.017121  \n4            0.017859            0.421007           0.016913  \n..                ...                 ...                ...  \n995          0.031662            0.000451           0.000385  \n996          0.031666            0.000451           0.000384  \n997          0.031664            0.000451           0.000384  \n998          0.031668            0.000450           0.000384  \n999          0.031664            0.000450           0.000383  \n\n[1000 rows x 7 columns]"
     },
     "execution_count": 20,
     "metadata": {},
     "output_type": "execute_result"
    }
   ],
   "source": [
    "## Comparison"
   ]
  },
  {
   "cell_type": "code",
   "execution_count": 21,
   "metadata": {
    "collapsed": false,
    "pycharm": {
     "name": "#%%\n"
    }
   },
   "outputs": [
    {
     "name": "stdout",
     "output_type": "stream",
     "text": [
      "--------------------------------------------\n",
      "Results for each category from best to worst\n",
      "--------------------------------------------\n",
      "train_time:\n",
      "1. scikit: 0:00:00.006842\n",
      "2. catboost: 0:00:10.943010\n"
     ]
    },
    {
     "data": {
      "image/png": "[encoded data removed]",
      "text/plain": [
       "<Figure size 432x288 with 1 Axes>"
      ]
     },
     "metadata": {},
     "output_type": "display_data"
    },
    {
     "name": "stdout",
     "output_type": "stream",
     "text": [
      "number_of_errors:\n",
      "1. catboost: 6\n",
      "2. scikit: 9\n"
     ]
    },
    {
     "data": {
      "image/png": "[encoded data removed]",
      "text/plain": [
       "<Figure size 432x288 with 1 Axes>"
      ]
     },
     "metadata": {},
     "output_type": "display_data"
    },
    {
     "name": "stdout",
     "output_type": "stream",
     "text": [
      "auc:\n",
      "1. scikit: 0.9453395703395702\n",
      "2. catboost: 0.9230769230769231\n"
     ]
    },
    {
     "data": {
      "image/png": "[encoded data removed]",
      "text/plain": [
       "<Figure size 432x288 with 1 Axes>"
      ]
     },
     "metadata": {},
     "output_type": "display_data"
    },
    {
     "name": "stdout",
     "output_type": "stream",
     "text": [
      "accuracy_score:\n",
      "1. catboost: 0.9922978177150192\n",
      "2. scikit: 0.9884467265725289\n"
     ]
    },
    {
     "data": {
      "image/png": "[encoded data removed]",
      "text/plain": [
       "<Figure size 432x288 with 1 Axes>"
      ]
     },
     "metadata": {},
     "output_type": "display_data"
    },
    {
     "name": "stdout",
     "output_type": "stream",
     "text": [
      "f1_weighted:\n",
      "1. catboost: 0.991992442946318\n",
      "2. scikit: 0.9885159427842972\n"
     ]
    },
    {
     "data": {
      "image/png": "[encoded data removed]",
      "text/plain": [
       "<Figure size 432x288 with 1 Axes>"
      ]
     },
     "metadata": {},
     "output_type": "display_data"
    },
    {
     "name": "stdout",
     "output_type": "stream",
     "text": [
      "f1_micro:\n",
      "1. catboost: 0.9922978177150192\n",
      "2. scikit: 0.9884467265725289\n"
     ]
    },
    {
     "data": {
      "image/png": "[encoded data removed]",
      "text/plain": [
       "<Figure size 432x288 with 1 Axes>"
      ]
     },
     "metadata": {},
     "output_type": "display_data"
    },
    {
     "name": "stdout",
     "output_type": "stream",
     "text": [
      "f1_macro:\n",
      "1. catboost: 0.9563144908030508\n",
      "2. scikit: 0.93999537833466\n"
     ]
    },
    {
     "data": {
      "image/png": "[encoded data removed]",
      "text/plain": [
       "<Figure size 432x288 with 1 Axes>"
      ]
     },
     "metadata": {},
     "output_type": "display_data"
    },
    {
     "name": "stdout",
     "output_type": "stream",
     "text": [
      "-----------------------------\n",
      "Best models for each category\n",
      "-----------------------------\n",
      "train_time: scikit\n",
      "number_of_errors: catboost\n",
      "auc: scikit\n",
      "accuracy_score: catboost\n",
      "f1_weighted: catboost\n",
      "f1_micro: catboost\n",
      "f1_macro: catboost\n"
     ]
    }
   ],
   "source": [
    "metrics = Metrics([scikit_evaluation, catboost_evaluation])\n",
    "\n",
    "metrics.sort_metrics()\n",
    "print(\"--------------------------------------------\")\n",
    "print(\"Results for each category from best to worst\")\n",
    "print(\"--------------------------------------------\")\n",
    "metrics.print_results()\n",
    "\n",
    "print(\"-----------------------------\")\n",
    "print(\"Best models for each category\")\n",
    "print(\"-----------------------------\")\n",
    "metrics.print_best()"
   ]
  },
  {
   "cell_type": "code",
   "execution_count": 21,
   "metadata": {
    "collapsed": false,
    "pycharm": {
     "name": "#%%\n"
    }
   },
   "outputs": [],
   "source": []
  }
 ],
 "metadata": {
  "kernelspec": {
   "display_name": "Python 3",
   "language": "python",
   "name": "python3"
  },
  "language_info": {
   "codemirror_mode": {
    "name": "ipython",
    "version": 3
   },
   "file_extension": ".py",
   "mimetype": "text/x-python",
   "name": "python",
   "nbconvert_exporter": "python",
   "pygments_lexer": "ipython3",
   "version": "3.8.5"
  }
 },
 "nbformat": 4,
 "nbformat_minor": 4
}
