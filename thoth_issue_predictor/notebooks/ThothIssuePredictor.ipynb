{
 "cells": [
  {
   "cell_type": "markdown",
   "metadata": {
    "pycharm": {
     "name": "#%% md\n"
    }
   },
   "source": [
    "# Prepare DF"
   ]
  },
  {
   "cell_type": "code",
   "execution_count": 1,
   "metadata": {},
   "outputs": [
    {
     "data": {
      "text/plain": [
       "'/home/tjanicek/thesis/thoth-issue-predictor'"
      ]
     },
     "execution_count": 1,
     "metadata": {},
     "output_type": "execute_result"
    }
   ],
   "source": [
    "import os\n",
    "import sys\n",
    "\n",
    "module_path = os.path.abspath(os.path.join(\"../..\"))\n",
    "if module_path not in sys.path:\n",
    "    sys.path.append(module_path)\n",
    "\n",
    "module_path"
   ]
  },
  {
   "cell_type": "code",
   "execution_count": 2,
   "metadata": {
    "pycharm": {
     "name": "#%%\n"
    }
   },
   "outputs": [],
   "source": [
    "import graphviz\n",
    "from sklearn.model_selection import cross_val_score, train_test_split\n",
    "from sklearn.tree import DecisionTreeClassifier, export_graphviz\n",
    "from thoth_issue_predictor.utils.grid_search import grid_search\n",
    "from catboost import Pool, CatBoostClassifier\n",
    "\n",
    "from thoth_issue_predictor.utils.preprocessing import (\n",
    "    prepare_df,\n",
    "    create_python_version_packege_df,\n",
    ")"
   ]
  },
  {
   "cell_type": "code",
   "execution_count": 3,
   "metadata": {
    "collapsed": true,
    "jupyter": {
     "outputs_hidden": true
    },
    "pycharm": {
     "name": "#%%\n"
    },
    "tags": []
   },
   "outputs": [],
   "source": [
    "FILE_NAME = \"../datasets/dataset.zip\"\n",
    "inspections_df = prepare_df(FILE_NAME)\n",
    "exit_codes = inspections_df[\"exit_code\"]"
   ]
  },
  {
   "cell_type": "code",
   "execution_count": 4,
   "metadata": {
    "pycharm": {
     "name": "#%%\n"
    }
   },
   "outputs": [],
   "source": [
    "(\n",
    "    issues_df,\n",
    "    _,\n",
    "    python_indexes,\n",
    ") = create_python_version_packege_df(inspections_df=inspections_df)\n",
    "issues_df[\"exit_code\"] = exit_codes.astype(\"int\")\n",
    "issues_df = issues_df.loc[\n",
    "    (issues_df.loc[:, issues_df.columns != \"exit_code\"] != 0).any(axis=1)\n",
    "]\n",
    "issues_df = issues_df.drop_duplicates()"
   ]
  },
  {
   "cell_type": "code",
   "execution_count": 5,
   "metadata": {
    "pycharm": {
     "name": "#%%\n"
    }
   },
   "outputs": [
    {
     "data": {
      "text/plain": [
       "['unknown', 'pypi-org-simple', 'pypi-org', 'aicoe', 'pypi']"
      ]
     },
     "execution_count": 5,
     "metadata": {},
     "output_type": "execute_result"
    }
   ],
   "source": [
    "python_indexes"
   ]
  },
  {
   "cell_type": "code",
   "execution_count": 6,
   "metadata": {
    "pycharm": {
     "name": "#%%\n"
    }
   },
   "outputs": [
    {
     "name": "stdout",
     "output_type": "stream",
     "text": [
      "Length of DF is 1155\n"
     ]
    },
    {
     "data": {
      "text/html": [
       "<div>\n",
       "<style scoped>\n",
       "    .dataframe tbody tr th:only-of-type {\n",
       "        vertical-align: middle;\n",
       "    }\n",
       "\n",
       "    .dataframe tbody tr th {\n",
       "        vertical-align: top;\n",
       "    }\n",
       "\n",
       "    .dataframe thead th {\n",
       "        text-align: right;\n",
       "    }\n",
       "</style>\n",
       "<table border=\"1\" class=\"dataframe\">\n",
       "  <thead>\n",
       "    <tr style=\"text-align: right;\">\n",
       "      <th></th>\n",
       "      <th>python</th>\n",
       "      <th>tensorflow_major</th>\n",
       "      <th>tensorflow_minor</th>\n",
       "      <th>tensorflow_patch</th>\n",
       "      <th>tensorflow_index</th>\n",
       "      <th>flatbuffers_major</th>\n",
       "      <th>flatbuffers_minor</th>\n",
       "      <th>flatbuffers_patch</th>\n",
       "      <th>flatbuffers_index</th>\n",
       "      <th>six_major</th>\n",
       "      <th>...</th>\n",
       "      <th>keras_index</th>\n",
       "      <th>pyyaml_major</th>\n",
       "      <th>pyyaml_minor</th>\n",
       "      <th>pyyaml_patch</th>\n",
       "      <th>pyyaml_index</th>\n",
       "      <th>tensorflow-cpu_major</th>\n",
       "      <th>tensorflow-cpu_minor</th>\n",
       "      <th>tensorflow-cpu_patch</th>\n",
       "      <th>tensorflow-cpu_index</th>\n",
       "      <th>exit_code</th>\n",
       "    </tr>\n",
       "  </thead>\n",
       "  <tbody>\n",
       "    <tr>\n",
       "      <th>0</th>\n",
       "      <td>38</td>\n",
       "      <td>2</td>\n",
       "      <td>4</td>\n",
       "      <td>1</td>\n",
       "      <td>1</td>\n",
       "      <td>1</td>\n",
       "      <td>12</td>\n",
       "      <td>0</td>\n",
       "      <td>1</td>\n",
       "      <td>1</td>\n",
       "      <td>...</td>\n",
       "      <td>0</td>\n",
       "      <td>0</td>\n",
       "      <td>0</td>\n",
       "      <td>0</td>\n",
       "      <td>0</td>\n",
       "      <td>0</td>\n",
       "      <td>0</td>\n",
       "      <td>0</td>\n",
       "      <td>0</td>\n",
       "      <td>0</td>\n",
       "    </tr>\n",
       "    <tr>\n",
       "      <th>1</th>\n",
       "      <td>38</td>\n",
       "      <td>2</td>\n",
       "      <td>4</td>\n",
       "      <td>1</td>\n",
       "      <td>1</td>\n",
       "      <td>1</td>\n",
       "      <td>12</td>\n",
       "      <td>0</td>\n",
       "      <td>1</td>\n",
       "      <td>1</td>\n",
       "      <td>...</td>\n",
       "      <td>0</td>\n",
       "      <td>0</td>\n",
       "      <td>0</td>\n",
       "      <td>0</td>\n",
       "      <td>0</td>\n",
       "      <td>0</td>\n",
       "      <td>0</td>\n",
       "      <td>0</td>\n",
       "      <td>0</td>\n",
       "      <td>0</td>\n",
       "    </tr>\n",
       "    <tr>\n",
       "      <th>2</th>\n",
       "      <td>38</td>\n",
       "      <td>2</td>\n",
       "      <td>4</td>\n",
       "      <td>1</td>\n",
       "      <td>1</td>\n",
       "      <td>1</td>\n",
       "      <td>12</td>\n",
       "      <td>0</td>\n",
       "      <td>1</td>\n",
       "      <td>1</td>\n",
       "      <td>...</td>\n",
       "      <td>0</td>\n",
       "      <td>0</td>\n",
       "      <td>0</td>\n",
       "      <td>0</td>\n",
       "      <td>0</td>\n",
       "      <td>0</td>\n",
       "      <td>0</td>\n",
       "      <td>0</td>\n",
       "      <td>0</td>\n",
       "      <td>0</td>\n",
       "    </tr>\n",
       "    <tr>\n",
       "      <th>3</th>\n",
       "      <td>36</td>\n",
       "      <td>2</td>\n",
       "      <td>1</td>\n",
       "      <td>0</td>\n",
       "      <td>2</td>\n",
       "      <td>0</td>\n",
       "      <td>0</td>\n",
       "      <td>0</td>\n",
       "      <td>0</td>\n",
       "      <td>1</td>\n",
       "      <td>...</td>\n",
       "      <td>0</td>\n",
       "      <td>0</td>\n",
       "      <td>0</td>\n",
       "      <td>0</td>\n",
       "      <td>0</td>\n",
       "      <td>0</td>\n",
       "      <td>0</td>\n",
       "      <td>0</td>\n",
       "      <td>0</td>\n",
       "      <td>0</td>\n",
       "    </tr>\n",
       "    <tr>\n",
       "      <th>4</th>\n",
       "      <td>38</td>\n",
       "      <td>2</td>\n",
       "      <td>4</td>\n",
       "      <td>1</td>\n",
       "      <td>1</td>\n",
       "      <td>1</td>\n",
       "      <td>12</td>\n",
       "      <td>0</td>\n",
       "      <td>1</td>\n",
       "      <td>1</td>\n",
       "      <td>...</td>\n",
       "      <td>0</td>\n",
       "      <td>0</td>\n",
       "      <td>0</td>\n",
       "      <td>0</td>\n",
       "      <td>0</td>\n",
       "      <td>0</td>\n",
       "      <td>0</td>\n",
       "      <td>0</td>\n",
       "      <td>0</td>\n",
       "      <td>0</td>\n",
       "    </tr>\n",
       "  </tbody>\n",
       "</table>\n",
       "<p>5 rows × 210 columns</p>\n",
       "</div>"
      ],
      "text/plain": [
       "   python  tensorflow_major  tensorflow_minor  tensorflow_patch  \\\n",
       "0      38                 2                 4                 1   \n",
       "1      38                 2                 4                 1   \n",
       "2      38                 2                 4                 1   \n",
       "3      36                 2                 1                 0   \n",
       "4      38                 2                 4                 1   \n",
       "\n",
       "   tensorflow_index  flatbuffers_major  flatbuffers_minor  flatbuffers_patch  \\\n",
       "0                 1                  1                 12                  0   \n",
       "1                 1                  1                 12                  0   \n",
       "2                 1                  1                 12                  0   \n",
       "3                 2                  0                  0                  0   \n",
       "4                 1                  1                 12                  0   \n",
       "\n",
       "   flatbuffers_index  six_major  ...  keras_index  pyyaml_major  pyyaml_minor  \\\n",
       "0                  1          1  ...            0             0             0   \n",
       "1                  1          1  ...            0             0             0   \n",
       "2                  1          1  ...            0             0             0   \n",
       "3                  0          1  ...            0             0             0   \n",
       "4                  1          1  ...            0             0             0   \n",
       "\n",
       "   pyyaml_patch  pyyaml_index  tensorflow-cpu_major  tensorflow-cpu_minor  \\\n",
       "0             0             0                     0                     0   \n",
       "1             0             0                     0                     0   \n",
       "2             0             0                     0                     0   \n",
       "3             0             0                     0                     0   \n",
       "4             0             0                     0                     0   \n",
       "\n",
       "   tensorflow-cpu_patch  tensorflow-cpu_index  exit_code  \n",
       "0                     0                     0          0  \n",
       "1                     0                     0          0  \n",
       "2                     0                     0          0  \n",
       "3                     0                     0          0  \n",
       "4                     0                     0          0  \n",
       "\n",
       "[5 rows x 210 columns]"
      ]
     },
     "execution_count": 6,
     "metadata": {},
     "output_type": "execute_result"
    }
   ],
   "source": [
    "print(f\"Length of DF is {len(issues_df)}\")\n",
    "issues_df.head(5)"
   ]
  },
  {
   "cell_type": "code",
   "execution_count": 7,
   "metadata": {
    "pycharm": {
     "name": "#%%\n"
    }
   },
   "outputs": [
    {
     "name": "stdout",
     "output_type": "stream",
     "text": [
      "<class 'pandas.core.frame.DataFrame'>\n",
      "Int64Index: 1155 entries, 0 to 1200\n",
      "Columns: 210 entries, python to exit_code\n",
      "dtypes: int64(210)\n",
      "memory usage: 1.9 MB\n"
     ]
    }
   ],
   "source": [
    "issues_df.info()"
   ]
  },
  {
   "cell_type": "markdown",
   "metadata": {
    "pycharm": {
     "name": "#%% md\n"
    }
   },
   "source": [
    "# Failed inspections"
   ]
  },
  {
   "cell_type": "code",
   "execution_count": 8,
   "metadata": {
    "pycharm": {
     "name": "#%%\n"
    }
   },
   "outputs": [
    {
     "name": "stdout",
     "output_type": "stream",
     "text": [
      "Number of failed inspections: 102\n"
     ]
    },
    {
     "data": {
      "text/html": [
       "<div>\n",
       "<style scoped>\n",
       "    .dataframe tbody tr th:only-of-type {\n",
       "        vertical-align: middle;\n",
       "    }\n",
       "\n",
       "    .dataframe tbody tr th {\n",
       "        vertical-align: top;\n",
       "    }\n",
       "\n",
       "    .dataframe thead th {\n",
       "        text-align: right;\n",
       "    }\n",
       "</style>\n",
       "<table border=\"1\" class=\"dataframe\">\n",
       "  <thead>\n",
       "    <tr style=\"text-align: right;\">\n",
       "      <th></th>\n",
       "      <th>python</th>\n",
       "      <th>tensorflow_major</th>\n",
       "      <th>tensorflow_minor</th>\n",
       "      <th>tensorflow_patch</th>\n",
       "      <th>tensorflow_index</th>\n",
       "      <th>flatbuffers_major</th>\n",
       "      <th>flatbuffers_minor</th>\n",
       "      <th>flatbuffers_patch</th>\n",
       "      <th>flatbuffers_index</th>\n",
       "      <th>six_major</th>\n",
       "      <th>...</th>\n",
       "      <th>keras_index</th>\n",
       "      <th>pyyaml_major</th>\n",
       "      <th>pyyaml_minor</th>\n",
       "      <th>pyyaml_patch</th>\n",
       "      <th>pyyaml_index</th>\n",
       "      <th>tensorflow-cpu_major</th>\n",
       "      <th>tensorflow-cpu_minor</th>\n",
       "      <th>tensorflow-cpu_patch</th>\n",
       "      <th>tensorflow-cpu_index</th>\n",
       "      <th>exit_code</th>\n",
       "    </tr>\n",
       "  </thead>\n",
       "  <tbody>\n",
       "    <tr>\n",
       "      <th>1097</th>\n",
       "      <td>36</td>\n",
       "      <td>2</td>\n",
       "      <td>1</td>\n",
       "      <td>0</td>\n",
       "      <td>2</td>\n",
       "      <td>0</td>\n",
       "      <td>0</td>\n",
       "      <td>0</td>\n",
       "      <td>0</td>\n",
       "      <td>1</td>\n",
       "      <td>...</td>\n",
       "      <td>0</td>\n",
       "      <td>0</td>\n",
       "      <td>0</td>\n",
       "      <td>0</td>\n",
       "      <td>0</td>\n",
       "      <td>0</td>\n",
       "      <td>0</td>\n",
       "      <td>0</td>\n",
       "      <td>0</td>\n",
       "      <td>1</td>\n",
       "    </tr>\n",
       "    <tr>\n",
       "      <th>1098</th>\n",
       "      <td>36</td>\n",
       "      <td>2</td>\n",
       "      <td>1</td>\n",
       "      <td>0</td>\n",
       "      <td>2</td>\n",
       "      <td>0</td>\n",
       "      <td>0</td>\n",
       "      <td>0</td>\n",
       "      <td>0</td>\n",
       "      <td>1</td>\n",
       "      <td>...</td>\n",
       "      <td>0</td>\n",
       "      <td>0</td>\n",
       "      <td>0</td>\n",
       "      <td>0</td>\n",
       "      <td>0</td>\n",
       "      <td>0</td>\n",
       "      <td>0</td>\n",
       "      <td>0</td>\n",
       "      <td>0</td>\n",
       "      <td>1</td>\n",
       "    </tr>\n",
       "    <tr>\n",
       "      <th>1099</th>\n",
       "      <td>36</td>\n",
       "      <td>2</td>\n",
       "      <td>1</td>\n",
       "      <td>0</td>\n",
       "      <td>2</td>\n",
       "      <td>0</td>\n",
       "      <td>0</td>\n",
       "      <td>0</td>\n",
       "      <td>0</td>\n",
       "      <td>1</td>\n",
       "      <td>...</td>\n",
       "      <td>0</td>\n",
       "      <td>0</td>\n",
       "      <td>0</td>\n",
       "      <td>0</td>\n",
       "      <td>0</td>\n",
       "      <td>0</td>\n",
       "      <td>0</td>\n",
       "      <td>0</td>\n",
       "      <td>0</td>\n",
       "      <td>1</td>\n",
       "    </tr>\n",
       "    <tr>\n",
       "      <th>1100</th>\n",
       "      <td>36</td>\n",
       "      <td>2</td>\n",
       "      <td>1</td>\n",
       "      <td>0</td>\n",
       "      <td>2</td>\n",
       "      <td>0</td>\n",
       "      <td>0</td>\n",
       "      <td>0</td>\n",
       "      <td>0</td>\n",
       "      <td>1</td>\n",
       "      <td>...</td>\n",
       "      <td>0</td>\n",
       "      <td>0</td>\n",
       "      <td>0</td>\n",
       "      <td>0</td>\n",
       "      <td>0</td>\n",
       "      <td>0</td>\n",
       "      <td>0</td>\n",
       "      <td>0</td>\n",
       "      <td>0</td>\n",
       "      <td>1</td>\n",
       "    </tr>\n",
       "    <tr>\n",
       "      <th>1101</th>\n",
       "      <td>36</td>\n",
       "      <td>2</td>\n",
       "      <td>1</td>\n",
       "      <td>0</td>\n",
       "      <td>2</td>\n",
       "      <td>0</td>\n",
       "      <td>0</td>\n",
       "      <td>0</td>\n",
       "      <td>0</td>\n",
       "      <td>1</td>\n",
       "      <td>...</td>\n",
       "      <td>0</td>\n",
       "      <td>0</td>\n",
       "      <td>0</td>\n",
       "      <td>0</td>\n",
       "      <td>0</td>\n",
       "      <td>0</td>\n",
       "      <td>0</td>\n",
       "      <td>0</td>\n",
       "      <td>0</td>\n",
       "      <td>1</td>\n",
       "    </tr>\n",
       "  </tbody>\n",
       "</table>\n",
       "<p>5 rows × 210 columns</p>\n",
       "</div>"
      ],
      "text/plain": [
       "      python  tensorflow_major  tensorflow_minor  tensorflow_patch  \\\n",
       "1097      36                 2                 1                 0   \n",
       "1098      36                 2                 1                 0   \n",
       "1099      36                 2                 1                 0   \n",
       "1100      36                 2                 1                 0   \n",
       "1101      36                 2                 1                 0   \n",
       "\n",
       "      tensorflow_index  flatbuffers_major  flatbuffers_minor  \\\n",
       "1097                 2                  0                  0   \n",
       "1098                 2                  0                  0   \n",
       "1099                 2                  0                  0   \n",
       "1100                 2                  0                  0   \n",
       "1101                 2                  0                  0   \n",
       "\n",
       "      flatbuffers_patch  flatbuffers_index  six_major  ...  keras_index  \\\n",
       "1097                  0                  0          1  ...            0   \n",
       "1098                  0                  0          1  ...            0   \n",
       "1099                  0                  0          1  ...            0   \n",
       "1100                  0                  0          1  ...            0   \n",
       "1101                  0                  0          1  ...            0   \n",
       "\n",
       "      pyyaml_major  pyyaml_minor  pyyaml_patch  pyyaml_index  \\\n",
       "1097             0             0             0             0   \n",
       "1098             0             0             0             0   \n",
       "1099             0             0             0             0   \n",
       "1100             0             0             0             0   \n",
       "1101             0             0             0             0   \n",
       "\n",
       "      tensorflow-cpu_major  tensorflow-cpu_minor  tensorflow-cpu_patch  \\\n",
       "1097                     0                     0                     0   \n",
       "1098                     0                     0                     0   \n",
       "1099                     0                     0                     0   \n",
       "1100                     0                     0                     0   \n",
       "1101                     0                     0                     0   \n",
       "\n",
       "      tensorflow-cpu_index  exit_code  \n",
       "1097                     0          1  \n",
       "1098                     0          1  \n",
       "1099                     0          1  \n",
       "1100                     0          1  \n",
       "1101                     0          1  \n",
       "\n",
       "[5 rows x 210 columns]"
      ]
     },
     "execution_count": 8,
     "metadata": {},
     "output_type": "execute_result"
    }
   ],
   "source": [
    "failed_inspections = issues_df[issues_df[\"exit_code\"] == 1]\n",
    "print(f\"Number of failed inspections: {len(failed_inspections)}\")\n",
    "failed_inspections.head()"
   ]
  },
  {
   "cell_type": "code",
   "execution_count": 9,
   "metadata": {
    "pycharm": {
     "name": "#%%\n"
    }
   },
   "outputs": [],
   "source": [
    "issue_x, exit_codes = issues_df.drop(\"exit_code\", axis=1), issues_df[\"exit_code\"]"
   ]
  },
  {
   "cell_type": "code",
   "execution_count": 10,
   "metadata": {
    "pycharm": {
     "name": "#%%\n"
    }
   },
   "outputs": [],
   "source": [
    "X_train, X_test, y_train, y_test = train_test_split(\n",
    "    issue_x, exit_codes, test_size=0.33, random_state=42\n",
    ")"
   ]
  },
  {
   "cell_type": "markdown",
   "metadata": {
    "pycharm": {
     "name": "#%% md\n"
    }
   },
   "source": [
    "# Decision Trees"
   ]
  },
  {
   "cell_type": "code",
   "execution_count": 61,
   "metadata": {
    "collapsed": true,
    "jupyter": {
     "outputs_hidden": true
    },
    "pycharm": {
     "name": "#%%\n"
    },
    "tags": []
   },
   "outputs": [],
   "source": [
    "# best_params = grid_search(issue_x, exit_codes)\n",
    "best_params = {}"
   ]
  },
  {
   "cell_type": "code",
   "execution_count": 62,
   "metadata": {
    "pycharm": {
     "name": "#%%\n"
    }
   },
   "outputs": [
    {
     "data": {
      "text/plain": [
       "array([1.        , 1.        , 1.        , 0.99137931, 0.99137931,\n",
       "       1.        , 0.99130435, 1.        , 0.99130435, 0.99130435])"
      ]
     },
     "execution_count": 62,
     "metadata": {},
     "output_type": "execute_result"
    }
   ],
   "source": [
    "clf = DecisionTreeClassifier(**best_params)\n",
    "cross_val_score(clf, issue_x, exit_codes, cv=10)"
   ]
  },
  {
   "cell_type": "code",
   "execution_count": 63,
   "metadata": {
    "pycharm": {
     "name": "#%%\n"
    }
   },
   "outputs": [
    {
     "data": {
      "text/plain": [
       "DecisionTreeClassifier()"
      ]
     },
     "execution_count": 63,
     "metadata": {},
     "output_type": "execute_result"
    }
   ],
   "source": [
    "clf.fit(issue_x, exit_codes)"
   ]
  },
  {
   "cell_type": "code",
   "execution_count": 64,
   "metadata": {
    "pycharm": {
     "name": "#%%\n"
    }
   },
   "outputs": [
    {
     "data": {
      "text/plain": [
       "'trees/ThothIssuePredictor.pdf'"
      ]
     },
     "execution_count": 64,
     "metadata": {},
     "output_type": "execute_result"
    }
   ],
   "source": [
    "feature_names = issue_x.columns\n",
    "target_names = [\"successful\", \"failed\"]\n",
    "dot_data = export_graphviz(\n",
    "    clf,\n",
    "    out_file=None,\n",
    "    feature_names=feature_names,\n",
    "    class_names=target_names,\n",
    "    filled=True,\n",
    "    rounded=True,\n",
    "    special_characters=True,\n",
    ")\n",
    "graph = graphviz.Source(dot_data)\n",
    "graph.render(\"trees/ThothIssuePredictor\", format=\"pdf\")"
   ]
  },
  {
   "cell_type": "markdown",
   "metadata": {
    "collapsed": false,
    "pycharm": {
     "name": "#%% md\n"
    }
   },
   "source": [
    "## CatBoost Decision tree model"
   ]
  },
  {
   "cell_type": "code",
   "execution_count": 65,
   "metadata": {
    "pycharm": {
     "name": "#%%\n"
    }
   },
   "outputs": [],
   "source": [
    "issue_x_pool = Pool(issue_x, exit_codes)\n",
    "train_pool = Pool(X_train, y_train)\n",
    "test_pool = Pool(X_test, y_test)"
   ]
  },
  {
   "cell_type": "code",
   "execution_count": 66,
   "metadata": {
    "pycharm": {
     "name": "#%%\n"
    }
   },
   "outputs": [
    {
     "data": {
      "text/plain": [
       "<catboost.core.CatBoostClassifier at 0x7fee41379b50>"
      ]
     },
     "execution_count": 66,
     "metadata": {},
     "output_type": "execute_result"
    }
   ],
   "source": [
    "cat_features = []\n",
    "\n",
    "param = params = {\n",
    "    \"iterations\": 100,\n",
    "    \"loss_function\": \"Logloss\",\n",
    "    \"eval_metric\": \"AUC\",\n",
    "    \"verbose\": False,\n",
    "    \"max_depth\": 4,\n",
    "    \"use_best_model\": True,\n",
    "}\n",
    "model = CatBoostClassifier(**param)\n",
    "model.fit(train_pool, eval_set=test_pool)"
   ]
  },
  {
   "cell_type": "code",
   "execution_count": 69,
   "metadata": {
    "collapsed": false,
    "pycharm": {
     "name": "#%%\n"
    }
   },
   "outputs": [
    {
     "data": {
      "text/plain": [
       "'trees/ThothIssuePredictorBoost.pdf'"
      ]
     },
     "execution_count": 69,
     "metadata": {},
     "output_type": "execute_result"
    }
   ],
   "source": [
    "dot_data = model.plot_tree(0, pool=X_train)\n",
    "graph = graphviz.Source(dot_data)\n",
    "graph.render(\"trees/ThothIssuePredictorBoost\", format=\"pdf\")"
   ]
  },
  {
   "cell_type": "code",
   "execution_count": null,
   "metadata": {
    "collapsed": false,
    "pycharm": {
     "name": "#%%\n"
    }
   },
   "outputs": [],
   "source": []
  }
 ],
 "metadata": {
  "kernelspec": {
   "display_name": "Python 3",
   "language": "python",
   "name": "python3"
  },
  "language_info": {
   "codemirror_mode": {
    "name": "ipython",
    "version": 3
   },
   "file_extension": ".py",
   "mimetype": "text/x-python",
   "name": "python",
   "nbconvert_exporter": "python",
   "pygments_lexer": "ipython3",
   "version": "3.8.5"
  }
 },
 "nbformat": 4,
 "nbformat_minor": 4
}
