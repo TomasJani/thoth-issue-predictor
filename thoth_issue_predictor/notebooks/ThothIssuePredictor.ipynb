{
 "cells": [
  {
   "cell_type": "markdown",
   "metadata": {
    "pycharm": {
     "name": "#%% md\n"
    }
   },
   "source": [
    "# Predictive model implementation\n",
    "\n",
    "This notebook contains model preprocessing, training and evaluation."
   ]
  },
  {
   "cell_type": "code",
   "execution_count": 1,
   "metadata": {},
   "outputs": [
    {
     "data": {
      "text/plain": [
       "'/home/tjanicek/thesis/thoth-issue-predictor'"
      ]
     },
     "execution_count": 1,
     "metadata": {},
     "output_type": "execute_result"
    }
   ],
   "source": [
    "import os\n",
    "import sys\n",
    "\n",
    "# Set-up notebook environment to include thoth_issue_predictor module.\n",
    "module_path = os.path.abspath(os.path.join(\"../..\"))\n",
    "if module_path not in sys.path:\n",
    "    sys.path.append(module_path)\n",
    "\n",
    "module_path"
   ]
  },
  {
   "cell_type": "code",
   "execution_count": 2,
   "metadata": {
    "pycharm": {
     "name": "#%%\n"
    }
   },
   "outputs": [],
   "source": [
    "from IPython.core.display import display\n",
    "import graphviz\n",
    "from sklearn.model_selection import train_test_split\n",
    "from sklearn.tree import DecisionTreeClassifier, export_graphviz\n",
    "from catboost import Pool, CatBoostClassifier\n",
    "from datetime import datetime\n",
    "from thoth_issue_predictor.preprocessing.grid_search import (\n",
    "    grid_search_catboost,\n",
    "    grid_search_scikit,\n",
    ")\n",
    "from thoth_issue_predictor.evaluation.metrics import Metrics\n",
    "from thoth_issue_predictor.evaluation.model_evaluation import ModelEvaluation\n",
    "from thoth_issue_predictor.preprocessing.preprocessing import Preprocessing"
   ]
  },
  {
   "cell_type": "markdown",
   "metadata": {
    "collapsed": false
   },
   "source": [
    "## Model Preprocessing\n",
    "\n",
    "Model preprocessing is done in three stages:\n",
    " - function `prepare_df` unpacks data from archive file and creates dataframe with raw data.\n",
    " - class `Preprocessing` extracts relevant data\n",
    " - cell below drops duplicates\n",
    " - cell below splits dataset into test and train datasets"
   ]
  },
  {
   "cell_type": "code",
   "execution_count": 3,
   "metadata": {
    "collapsed": false,
    "pycharm": {
     "name": "#%%\n"
    }
   },
   "outputs": [],
   "source": [
    "preprocessing = Preprocessing()\n",
    "inspections_df = preprocessing.prepare_df()\n",
    "issues_df, python_indexes = preprocessing.create_df()"
   ]
  },
  {
   "cell_type": "code",
   "execution_count": 4,
   "metadata": {
    "collapsed": false,
    "pycharm": {
     "name": "#%%\n"
    }
   },
   "outputs": [],
   "source": [
    "# Drops duplicates and sets columns exit_code to correct representations.\n",
    "issues_df[\"exit_code\"] = inspections_df[\"exit_code\"].astype(\"int\")\n",
    "issues_df = issues_df.loc[\n",
    "    (issues_df.loc[:, issues_df.columns != \"exit_code\"] != 0).any(axis=1)\n",
    "]\n",
    "issues_df = issues_df.drop_duplicates()"
   ]
  },
  {
   "cell_type": "code",
   "execution_count": 5,
   "metadata": {
    "collapsed": false,
    "pycharm": {
     "name": "#%%\n"
    }
   },
   "outputs": [
    {
     "data": {
      "text/plain": [
       "['unknown', 'pypi-org', 'pypi-org-simple']"
      ]
     },
     "execution_count": 5,
     "metadata": {},
     "output_type": "execute_result"
    }
   ],
   "source": [
    "python_indexes"
   ]
  },
  {
   "cell_type": "code",
   "execution_count": 6,
   "metadata": {
    "collapsed": false,
    "pycharm": {
     "name": "#%%\n"
    }
   },
   "outputs": [],
   "source": [
    "issue_x, exit_codes = issues_df.drop(\"exit_code\", axis=1), issues_df[\"exit_code\"]\n",
    "\n",
    "X_train, X_test, y_train, y_test = train_test_split(\n",
    "    issue_x, exit_codes, test_size=0.4, random_state=0\n",
    ")"
   ]
  },
  {
   "cell_type": "code",
   "execution_count": 7,
   "metadata": {
    "pycharm": {
     "name": "#%%\n"
    }
   },
   "outputs": [
    {
     "data": {
      "text/plain": [
       "'Length of DF is 247'"
      ]
     },
     "metadata": {},
     "output_type": "display_data"
    },
    {
     "data": {
      "text/html": [
       "<div>\n",
       "<style scoped>\n",
       "    .dataframe tbody tr th:only-of-type {\n",
       "        vertical-align: middle;\n",
       "    }\n",
       "\n",
       "    .dataframe tbody tr th {\n",
       "        vertical-align: top;\n",
       "    }\n",
       "\n",
       "    .dataframe thead th {\n",
       "        text-align: right;\n",
       "    }\n",
       "</style>\n",
       "<table border=\"1\" class=\"dataframe\">\n",
       "  <thead>\n",
       "    <tr style=\"text-align: right;\">\n",
       "      <th></th>\n",
       "      <th>python</th>\n",
       "      <th>tensorflow_major</th>\n",
       "      <th>tensorflow_minor</th>\n",
       "      <th>tensorflow_micro</th>\n",
       "      <th>tensorflow_index</th>\n",
       "      <th>absl-py_major</th>\n",
       "      <th>absl-py_minor</th>\n",
       "      <th>absl-py_micro</th>\n",
       "      <th>absl-py_index</th>\n",
       "      <th>astor_major</th>\n",
       "      <th>...</th>\n",
       "      <th>tensorboard-plugin-wit_index</th>\n",
       "      <th>packaging_major</th>\n",
       "      <th>packaging_minor</th>\n",
       "      <th>packaging_micro</th>\n",
       "      <th>packaging_index</th>\n",
       "      <th>pyparsing_major</th>\n",
       "      <th>pyparsing_minor</th>\n",
       "      <th>pyparsing_micro</th>\n",
       "      <th>pyparsing_index</th>\n",
       "      <th>exit_code</th>\n",
       "    </tr>\n",
       "  </thead>\n",
       "  <tbody>\n",
       "    <tr>\n",
       "      <th>0</th>\n",
       "      <td>36</td>\n",
       "      <td>2</td>\n",
       "      <td>1</td>\n",
       "      <td>0</td>\n",
       "      <td>1</td>\n",
       "      <td>0</td>\n",
       "      <td>8</td>\n",
       "      <td>0</td>\n",
       "      <td>1</td>\n",
       "      <td>0</td>\n",
       "      <td>...</td>\n",
       "      <td>0</td>\n",
       "      <td>0</td>\n",
       "      <td>0</td>\n",
       "      <td>0</td>\n",
       "      <td>0</td>\n",
       "      <td>0</td>\n",
       "      <td>0</td>\n",
       "      <td>0</td>\n",
       "      <td>0</td>\n",
       "      <td>0</td>\n",
       "    </tr>\n",
       "    <tr>\n",
       "      <th>1</th>\n",
       "      <td>36</td>\n",
       "      <td>2</td>\n",
       "      <td>1</td>\n",
       "      <td>0</td>\n",
       "      <td>1</td>\n",
       "      <td>0</td>\n",
       "      <td>8</td>\n",
       "      <td>0</td>\n",
       "      <td>1</td>\n",
       "      <td>0</td>\n",
       "      <td>...</td>\n",
       "      <td>0</td>\n",
       "      <td>0</td>\n",
       "      <td>0</td>\n",
       "      <td>0</td>\n",
       "      <td>0</td>\n",
       "      <td>0</td>\n",
       "      <td>0</td>\n",
       "      <td>0</td>\n",
       "      <td>0</td>\n",
       "      <td>0</td>\n",
       "    </tr>\n",
       "    <tr>\n",
       "      <th>2</th>\n",
       "      <td>38</td>\n",
       "      <td>2</td>\n",
       "      <td>4</td>\n",
       "      <td>0</td>\n",
       "      <td>2</td>\n",
       "      <td>0</td>\n",
       "      <td>11</td>\n",
       "      <td>0</td>\n",
       "      <td>2</td>\n",
       "      <td>0</td>\n",
       "      <td>...</td>\n",
       "      <td>2</td>\n",
       "      <td>0</td>\n",
       "      <td>0</td>\n",
       "      <td>0</td>\n",
       "      <td>0</td>\n",
       "      <td>0</td>\n",
       "      <td>0</td>\n",
       "      <td>0</td>\n",
       "      <td>0</td>\n",
       "      <td>0</td>\n",
       "    </tr>\n",
       "    <tr>\n",
       "      <th>3</th>\n",
       "      <td>36</td>\n",
       "      <td>2</td>\n",
       "      <td>1</td>\n",
       "      <td>0</td>\n",
       "      <td>1</td>\n",
       "      <td>0</td>\n",
       "      <td>9</td>\n",
       "      <td>0</td>\n",
       "      <td>1</td>\n",
       "      <td>0</td>\n",
       "      <td>...</td>\n",
       "      <td>0</td>\n",
       "      <td>0</td>\n",
       "      <td>0</td>\n",
       "      <td>0</td>\n",
       "      <td>0</td>\n",
       "      <td>0</td>\n",
       "      <td>0</td>\n",
       "      <td>0</td>\n",
       "      <td>0</td>\n",
       "      <td>0</td>\n",
       "    </tr>\n",
       "    <tr>\n",
       "      <th>4</th>\n",
       "      <td>38</td>\n",
       "      <td>2</td>\n",
       "      <td>4</td>\n",
       "      <td>1</td>\n",
       "      <td>2</td>\n",
       "      <td>0</td>\n",
       "      <td>10</td>\n",
       "      <td>0</td>\n",
       "      <td>2</td>\n",
       "      <td>0</td>\n",
       "      <td>...</td>\n",
       "      <td>2</td>\n",
       "      <td>20</td>\n",
       "      <td>7</td>\n",
       "      <td>0</td>\n",
       "      <td>2</td>\n",
       "      <td>2</td>\n",
       "      <td>1</td>\n",
       "      <td>8</td>\n",
       "      <td>2</td>\n",
       "      <td>0</td>\n",
       "    </tr>\n",
       "  </tbody>\n",
       "</table>\n",
       "<p>5 rows × 166 columns</p>\n",
       "</div>"
      ],
      "text/plain": [
       "   python  tensorflow_major  tensorflow_minor  tensorflow_micro  \\\n",
       "0      36                 2                 1                 0   \n",
       "1      36                 2                 1                 0   \n",
       "2      38                 2                 4                 0   \n",
       "3      36                 2                 1                 0   \n",
       "4      38                 2                 4                 1   \n",
       "\n",
       "   tensorflow_index  absl-py_major  absl-py_minor  absl-py_micro  \\\n",
       "0                 1              0              8              0   \n",
       "1                 1              0              8              0   \n",
       "2                 2              0             11              0   \n",
       "3                 1              0              9              0   \n",
       "4                 2              0             10              0   \n",
       "\n",
       "   absl-py_index  astor_major  ...  tensorboard-plugin-wit_index  \\\n",
       "0              1            0  ...                             0   \n",
       "1              1            0  ...                             0   \n",
       "2              2            0  ...                             2   \n",
       "3              1            0  ...                             0   \n",
       "4              2            0  ...                             2   \n",
       "\n",
       "   packaging_major  packaging_minor  packaging_micro  packaging_index  \\\n",
       "0                0                0                0                0   \n",
       "1                0                0                0                0   \n",
       "2                0                0                0                0   \n",
       "3                0                0                0                0   \n",
       "4               20                7                0                2   \n",
       "\n",
       "   pyparsing_major  pyparsing_minor  pyparsing_micro  pyparsing_index  \\\n",
       "0                0                0                0                0   \n",
       "1                0                0                0                0   \n",
       "2                0                0                0                0   \n",
       "3                0                0                0                0   \n",
       "4                2                1                8                2   \n",
       "\n",
       "   exit_code  \n",
       "0          0  \n",
       "1          0  \n",
       "2          0  \n",
       "3          0  \n",
       "4          0  \n",
       "\n",
       "[5 rows x 166 columns]"
      ]
     },
     "execution_count": 7,
     "metadata": {},
     "output_type": "execute_result"
    }
   ],
   "source": [
    "display(f\"Length of DF is {len(issues_df)}\")\n",
    "issues_df.head(5)"
   ]
  },
  {
   "cell_type": "markdown",
   "metadata": {
    "pycharm": {
     "name": "#%% md\n"
    }
   },
   "source": [
    "## Failed inspections\n",
    "\n",
    "This section filters and visualizes failed software stacks from whole dataframe."
   ]
  },
  {
   "cell_type": "code",
   "execution_count": 8,
   "metadata": {
    "pycharm": {
     "name": "#%%\n"
    }
   },
   "outputs": [
    {
     "data": {
      "text/plain": [
       "'Number of failed inspections: 37'"
      ]
     },
     "metadata": {},
     "output_type": "display_data"
    },
    {
     "data": {
      "text/html": [
       "<div>\n",
       "<style scoped>\n",
       "    .dataframe tbody tr th:only-of-type {\n",
       "        vertical-align: middle;\n",
       "    }\n",
       "\n",
       "    .dataframe tbody tr th {\n",
       "        vertical-align: top;\n",
       "    }\n",
       "\n",
       "    .dataframe thead th {\n",
       "        text-align: right;\n",
       "    }\n",
       "</style>\n",
       "<table border=\"1\" class=\"dataframe\">\n",
       "  <thead>\n",
       "    <tr style=\"text-align: right;\">\n",
       "      <th></th>\n",
       "      <th>python</th>\n",
       "      <th>tensorflow_major</th>\n",
       "      <th>tensorflow_minor</th>\n",
       "      <th>tensorflow_micro</th>\n",
       "      <th>tensorflow_index</th>\n",
       "      <th>absl-py_major</th>\n",
       "      <th>absl-py_minor</th>\n",
       "      <th>absl-py_micro</th>\n",
       "      <th>absl-py_index</th>\n",
       "      <th>astor_major</th>\n",
       "      <th>...</th>\n",
       "      <th>tensorboard-plugin-wit_index</th>\n",
       "      <th>packaging_major</th>\n",
       "      <th>packaging_minor</th>\n",
       "      <th>packaging_micro</th>\n",
       "      <th>packaging_index</th>\n",
       "      <th>pyparsing_major</th>\n",
       "      <th>pyparsing_minor</th>\n",
       "      <th>pyparsing_micro</th>\n",
       "      <th>pyparsing_index</th>\n",
       "      <th>exit_code</th>\n",
       "    </tr>\n",
       "  </thead>\n",
       "  <tbody>\n",
       "    <tr>\n",
       "      <th>210</th>\n",
       "      <td>36</td>\n",
       "      <td>2</td>\n",
       "      <td>1</td>\n",
       "      <td>0</td>\n",
       "      <td>1</td>\n",
       "      <td>0</td>\n",
       "      <td>9</td>\n",
       "      <td>0</td>\n",
       "      <td>1</td>\n",
       "      <td>0</td>\n",
       "      <td>...</td>\n",
       "      <td>0</td>\n",
       "      <td>0</td>\n",
       "      <td>0</td>\n",
       "      <td>0</td>\n",
       "      <td>0</td>\n",
       "      <td>0</td>\n",
       "      <td>0</td>\n",
       "      <td>0</td>\n",
       "      <td>0</td>\n",
       "      <td>1</td>\n",
       "    </tr>\n",
       "    <tr>\n",
       "      <th>211</th>\n",
       "      <td>36</td>\n",
       "      <td>2</td>\n",
       "      <td>1</td>\n",
       "      <td>0</td>\n",
       "      <td>1</td>\n",
       "      <td>0</td>\n",
       "      <td>9</td>\n",
       "      <td>0</td>\n",
       "      <td>1</td>\n",
       "      <td>0</td>\n",
       "      <td>...</td>\n",
       "      <td>0</td>\n",
       "      <td>0</td>\n",
       "      <td>0</td>\n",
       "      <td>0</td>\n",
       "      <td>0</td>\n",
       "      <td>0</td>\n",
       "      <td>0</td>\n",
       "      <td>0</td>\n",
       "      <td>0</td>\n",
       "      <td>1</td>\n",
       "    </tr>\n",
       "    <tr>\n",
       "      <th>212</th>\n",
       "      <td>36</td>\n",
       "      <td>2</td>\n",
       "      <td>1</td>\n",
       "      <td>0</td>\n",
       "      <td>1</td>\n",
       "      <td>0</td>\n",
       "      <td>9</td>\n",
       "      <td>0</td>\n",
       "      <td>1</td>\n",
       "      <td>0</td>\n",
       "      <td>...</td>\n",
       "      <td>0</td>\n",
       "      <td>0</td>\n",
       "      <td>0</td>\n",
       "      <td>0</td>\n",
       "      <td>0</td>\n",
       "      <td>0</td>\n",
       "      <td>0</td>\n",
       "      <td>0</td>\n",
       "      <td>0</td>\n",
       "      <td>1</td>\n",
       "    </tr>\n",
       "    <tr>\n",
       "      <th>213</th>\n",
       "      <td>36</td>\n",
       "      <td>2</td>\n",
       "      <td>1</td>\n",
       "      <td>0</td>\n",
       "      <td>1</td>\n",
       "      <td>0</td>\n",
       "      <td>8</td>\n",
       "      <td>0</td>\n",
       "      <td>1</td>\n",
       "      <td>0</td>\n",
       "      <td>...</td>\n",
       "      <td>0</td>\n",
       "      <td>0</td>\n",
       "      <td>0</td>\n",
       "      <td>0</td>\n",
       "      <td>0</td>\n",
       "      <td>0</td>\n",
       "      <td>0</td>\n",
       "      <td>0</td>\n",
       "      <td>0</td>\n",
       "      <td>1</td>\n",
       "    </tr>\n",
       "    <tr>\n",
       "      <th>214</th>\n",
       "      <td>36</td>\n",
       "      <td>2</td>\n",
       "      <td>1</td>\n",
       "      <td>0</td>\n",
       "      <td>1</td>\n",
       "      <td>0</td>\n",
       "      <td>9</td>\n",
       "      <td>0</td>\n",
       "      <td>1</td>\n",
       "      <td>0</td>\n",
       "      <td>...</td>\n",
       "      <td>0</td>\n",
       "      <td>0</td>\n",
       "      <td>0</td>\n",
       "      <td>0</td>\n",
       "      <td>0</td>\n",
       "      <td>0</td>\n",
       "      <td>0</td>\n",
       "      <td>0</td>\n",
       "      <td>0</td>\n",
       "      <td>1</td>\n",
       "    </tr>\n",
       "  </tbody>\n",
       "</table>\n",
       "<p>5 rows × 166 columns</p>\n",
       "</div>"
      ],
      "text/plain": [
       "     python  tensorflow_major  tensorflow_minor  tensorflow_micro  \\\n",
       "210      36                 2                 1                 0   \n",
       "211      36                 2                 1                 0   \n",
       "212      36                 2                 1                 0   \n",
       "213      36                 2                 1                 0   \n",
       "214      36                 2                 1                 0   \n",
       "\n",
       "     tensorflow_index  absl-py_major  absl-py_minor  absl-py_micro  \\\n",
       "210                 1              0              9              0   \n",
       "211                 1              0              9              0   \n",
       "212                 1              0              9              0   \n",
       "213                 1              0              8              0   \n",
       "214                 1              0              9              0   \n",
       "\n",
       "     absl-py_index  astor_major  ...  tensorboard-plugin-wit_index  \\\n",
       "210              1            0  ...                             0   \n",
       "211              1            0  ...                             0   \n",
       "212              1            0  ...                             0   \n",
       "213              1            0  ...                             0   \n",
       "214              1            0  ...                             0   \n",
       "\n",
       "     packaging_major  packaging_minor  packaging_micro  packaging_index  \\\n",
       "210                0                0                0                0   \n",
       "211                0                0                0                0   \n",
       "212                0                0                0                0   \n",
       "213                0                0                0                0   \n",
       "214                0                0                0                0   \n",
       "\n",
       "     pyparsing_major  pyparsing_minor  pyparsing_micro  pyparsing_index  \\\n",
       "210                0                0                0                0   \n",
       "211                0                0                0                0   \n",
       "212                0                0                0                0   \n",
       "213                0                0                0                0   \n",
       "214                0                0                0                0   \n",
       "\n",
       "     exit_code  \n",
       "210          1  \n",
       "211          1  \n",
       "212          1  \n",
       "213          1  \n",
       "214          1  \n",
       "\n",
       "[5 rows x 166 columns]"
      ]
     },
     "execution_count": 8,
     "metadata": {},
     "output_type": "execute_result"
    }
   ],
   "source": [
    "failed_inspections = issues_df[issues_df[\"exit_code\"] == 1]\n",
    "display(f\"Number of failed inspections: {len(failed_inspections)}\")\n",
    "failed_inspections.head()"
   ]
  },
  {
   "cell_type": "markdown",
   "metadata": {
    "collapsed": false
   },
   "source": [
    "## Scikit CART model\n",
    "\n",
    "This section contains implementation of Scikit DT model.\n",
    "The implementation is done in stages:\n",
    " - get the best parameters using grid search\n",
    " - train classifier using train subset\n",
    " - create tree visualization and export it to `thoth_issue_predictor/visualizations/ThothIssuePredictor.pdf`\n",
    " - visualize the performance of model and save metric for comparisons"
   ]
  },
  {
   "cell_type": "code",
   "execution_count": 9,
   "metadata": {
    "collapsed": true,
    "jupyter": {
     "outputs_hidden": true
    },
    "pycharm": {
     "name": "#%%\n"
    },
    "tags": []
   },
   "outputs": [
    {
     "data": {
      "text/plain": [
       "{'max_depth': 3,\n",
       " 'min_samples_leaf': 5,\n",
       " 'min_samples_split': 5,\n",
       " 'splitter': 'best'}"
      ]
     },
     "execution_count": 9,
     "metadata": {},
     "output_type": "execute_result"
    }
   ],
   "source": [
    "best_params = grid_search_scikit(X_train, y_train)\n",
    "best_params"
   ]
  },
  {
   "cell_type": "code",
   "execution_count": 10,
   "metadata": {
    "pycharm": {
     "name": "#%%\n"
    }
   },
   "outputs": [],
   "source": [
    "clf = DecisionTreeClassifier(**best_params)\n",
    "\n",
    "start = datetime.now()\n",
    "clf.fit(X_train, y_train)\n",
    "end = datetime.now()"
   ]
  },
  {
   "cell_type": "code",
   "execution_count": 11,
   "metadata": {
    "pycharm": {
     "name": "#%%\n"
    }
   },
   "outputs": [
    {
     "data": {
      "text/plain": [
       "'visualizations/ThothIssuePredictor.pdf'"
      ]
     },
     "execution_count": 11,
     "metadata": {},
     "output_type": "execute_result"
    }
   ],
   "source": [
    "feature_names = issue_x.columns\n",
    "target_names = [\"successful\", \"failed\"]\n",
    "dot_data = export_graphviz(\n",
    "    clf,\n",
    "    out_file=None,\n",
    "    feature_names=feature_names,\n",
    "    class_names=target_names,\n",
    "    filled=True,\n",
    "    rounded=True,\n",
    "    special_characters=True,\n",
    ")\n",
    "graph = graphviz.Source(dot_data)\n",
    "graph.render(\"visualizations/ThothIssuePredictor\", format=\"pdf\")"
   ]
  },
  {
   "cell_type": "code",
   "execution_count": 12,
   "metadata": {
    "collapsed": false,
    "pycharm": {
     "name": "#%%\n"
    }
   },
   "outputs": [
    {
     "name": "stdout",
     "output_type": "stream",
     "text": [
      "Train time: 0:00:00.002910\n",
      "Prediction time: 0:00:00.003262\n",
      "Number of errors: 0\n",
      "AUC: 1.0\n",
      "Accuracy: 1.0\n",
      "Precision: 1.0\n",
      "Recall: 1.0\n",
      "F1: 1.0\n",
      "              precision    recall  f1-score   support\n",
      "\n",
      "           0       1.00      1.00      1.00        85\n",
      "           1       1.00      1.00      1.00        14\n",
      "\n",
      "    accuracy                           1.00        99\n",
      "   macro avg       1.00      1.00      1.00        99\n",
      "weighted avg       1.00      1.00      1.00        99\n",
      "\n",
      "Confusion matrix for scikit\n",
      "[[85  0]\n",
      " [ 0 14]]\n"
     ]
    },
    {
     "data": {
      "image/png": "[encoded data removed]",
      "text/plain": [
       "<Figure size 432x288 with 2 Axes>"
      ]
     },
     "metadata": {
      "needs_background": "light"
     },
     "output_type": "display_data"
    },
    {
     "data": {
      "image/png": "[encoded data removed]",
      "text/plain": [
       "<Figure size 432x288 with 1 Axes>"
      ]
     },
     "metadata": {
      "needs_background": "light"
     },
     "output_type": "display_data"
    }
   ],
   "source": [
    "scikit_evaluation = ModelEvaluation(\"scikit\", clf, end - start, X_test, y_test)\n",
    "scikit_evaluation.predict_and_save()\n",
    "scikit_evaluation.print()"
   ]
  },
  {
   "cell_type": "markdown",
   "metadata": {
    "collapsed": false,
    "pycharm": {
     "name": "#%% md\n"
    }
   },
   "source": [
    "## CatBoost GBDT model\n",
    "\n",
    "This section contains implementation of CatBoost model.\n",
    "The implementation is done in stages:\n",
    " - get the best parameters using grid search\n",
    " - train classifier using train subset\n",
    " - create tree visualization and export it to `thoth_issue_predictor/visualizations/ThothIssuePredictorBoost.pdf`\n",
    " - visualize the performance of model and save metric for comparisons"
   ]
  },
  {
   "cell_type": "code",
   "execution_count": 13,
   "metadata": {
    "pycharm": {
     "name": "#%%\n"
    }
   },
   "outputs": [],
   "source": [
    "cat_features = [f for f in feature_names if \"_index\" in f]\n",
    "\n",
    "issue_pool = Pool(issue_x, exit_codes, cat_features=cat_features)\n",
    "train_pool = Pool(X_train, y_train, cat_features=cat_features)\n",
    "test_pool = Pool(X_test, y_test, cat_features=cat_features)"
   ]
  },
  {
   "cell_type": "code",
   "execution_count": 14,
   "metadata": {
    "pycharm": {
     "name": "#%%\n"
    }
   },
   "outputs": [
    {
     "name": "stdout",
     "output_type": "stream",
     "text": [
      "\n",
      "bestTest = 1\n",
      "bestIteration = 9\n",
      "\n",
      "Metric AUC is not calculated on train by default. To calculate this metric on train, add hints=skip_train~false to metric parameters.\n",
      "\n",
      "bestTest = 1\n",
      "bestIteration = 9\n",
      "\n",
      "Metric AUC is not calculated on train by default. To calculate this metric on train, add hints=skip_train~false to metric parameters.\n",
      "\n",
      "bestTest = 1\n",
      "bestIteration = 2\n",
      "\n",
      "Metric AUC is not calculated on train by default. To calculate this metric on train, add hints=skip_train~false to metric parameters.\n",
      "\n",
      "bestTest = 1\n",
      "bestIteration = 2\n",
      "\n",
      "Metric AUC is not calculated on train by default. To calculate this metric on train, add hints=skip_train~false to metric parameters.\n",
      "\n",
      "bestTest = 1\n",
      "bestIteration = 10\n",
      "\n",
      "Metric AUC is not calculated on train by default. To calculate this metric on train, add hints=skip_train~false to metric parameters.\n",
      "\n",
      "bestTest = 1\n",
      "bestIteration = 10\n",
      "\n",
      "Metric AUC is not calculated on train by default. To calculate this metric on train, add hints=skip_train~false to metric parameters.\n",
      "\n",
      "bestTest = 1\n",
      "bestIteration = 8\n",
      "\n",
      "Metric AUC is not calculated on train by default. To calculate this metric on train, add hints=skip_train~false to metric parameters.\n",
      "\n",
      "bestTest = 1\n",
      "bestIteration = 8\n",
      "\n",
      "Metric AUC is not calculated on train by default. To calculate this metric on train, add hints=skip_train~false to metric parameters.\n",
      "\n",
      "bestTest = 1\n",
      "bestIteration = 9\n",
      "\n",
      "Metric AUC is not calculated on train by default. To calculate this metric on train, add hints=skip_train~false to metric parameters.\n",
      "\n",
      "bestTest = 1\n",
      "bestIteration = 9\n",
      "\n",
      "Metric AUC is not calculated on train by default. To calculate this metric on train, add hints=skip_train~false to metric parameters.\n",
      "\n",
      "bestTest = 1\n",
      "bestIteration = 2\n",
      "\n",
      "Metric AUC is not calculated on train by default. To calculate this metric on train, add hints=skip_train~false to metric parameters.\n",
      "\n",
      "bestTest = 1\n",
      "bestIteration = 2\n",
      "\n",
      "Metric AUC is not calculated on train by default. To calculate this metric on train, add hints=skip_train~false to metric parameters.\n",
      "\n",
      "bestTest = 1\n",
      "bestIteration = 10\n",
      "\n",
      "Metric AUC is not calculated on train by default. To calculate this metric on train, add hints=skip_train~false to metric parameters.\n",
      "\n",
      "bestTest = 1\n",
      "bestIteration = 10\n",
      "\n",
      "Metric AUC is not calculated on train by default. To calculate this metric on train, add hints=skip_train~false to metric parameters.\n",
      "\n",
      "bestTest = 1\n",
      "bestIteration = 8\n",
      "\n",
      "Metric AUC is not calculated on train by default. To calculate this metric on train, add hints=skip_train~false to metric parameters.\n",
      "\n",
      "bestTest = 1\n",
      "bestIteration = 8\n",
      "\n",
      "Metric AUC is not calculated on train by default. To calculate this metric on train, add hints=skip_train~false to metric parameters.\n",
      "\n",
      "bestTest = 1\n",
      "bestIteration = 9\n",
      "\n",
      "Metric AUC is not calculated on train by default. To calculate this metric on train, add hints=skip_train~false to metric parameters.\n",
      "\n",
      "bestTest = 1\n",
      "bestIteration = 9\n",
      "\n",
      "Metric AUC is not calculated on train by default. To calculate this metric on train, add hints=skip_train~false to metric parameters.\n",
      "\n",
      "bestTest = 1\n",
      "bestIteration = 2\n",
      "\n",
      "Metric AUC is not calculated on train by default. To calculate this metric on train, add hints=skip_train~false to metric parameters.\n",
      "\n",
      "bestTest = 1\n",
      "bestIteration = 2\n",
      "\n",
      "Metric AUC is not calculated on train by default. To calculate this metric on train, add hints=skip_train~false to metric parameters.\n",
      "\n",
      "bestTest = 1\n",
      "bestIteration = 10\n",
      "\n",
      "Metric AUC is not calculated on train by default. To calculate this metric on train, add hints=skip_train~false to metric parameters.\n",
      "\n",
      "bestTest = 1\n",
      "bestIteration = 10\n",
      "\n",
      "Metric AUC is not calculated on train by default. To calculate this metric on train, add hints=skip_train~false to metric parameters.\n",
      "\n",
      "bestTest = 1\n",
      "bestIteration = 8\n",
      "\n",
      "Metric AUC is not calculated on train by default. To calculate this metric on train, add hints=skip_train~false to metric parameters.\n",
      "\n",
      "bestTest = 1\n",
      "bestIteration = 8\n",
      "\n",
      "Metric AUC is not calculated on train by default. To calculate this metric on train, add hints=skip_train~false to metric parameters.\n",
      "\n",
      "bestTest = 1\n",
      "bestIteration = 9\n",
      "\n",
      "Metric AUC is not calculated on train by default. To calculate this metric on train, add hints=skip_train~false to metric parameters.\n",
      "\n",
      "bestTest = 1\n",
      "bestIteration = 9\n",
      "\n",
      "Metric AUC is not calculated on train by default. To calculate this metric on train, add hints=skip_train~false to metric parameters.\n",
      "\n",
      "bestTest = 1\n",
      "bestIteration = 2\n",
      "\n",
      "Metric AUC is not calculated on train by default. To calculate this metric on train, add hints=skip_train~false to metric parameters.\n",
      "\n",
      "bestTest = 1\n",
      "bestIteration = 2\n",
      "\n",
      "Metric AUC is not calculated on train by default. To calculate this metric on train, add hints=skip_train~false to metric parameters.\n",
      "\n",
      "bestTest = 1\n",
      "bestIteration = 10\n",
      "\n",
      "Metric AUC is not calculated on train by default. To calculate this metric on train, add hints=skip_train~false to metric parameters.\n",
      "\n",
      "bestTest = 1\n",
      "bestIteration = 10\n",
      "\n",
      "Metric AUC is not calculated on train by default. To calculate this metric on train, add hints=skip_train~false to metric parameters.\n",
      "\n",
      "bestTest = 1\n",
      "bestIteration = 8\n",
      "\n",
      "Metric AUC is not calculated on train by default. To calculate this metric on train, add hints=skip_train~false to metric parameters.\n",
      "\n",
      "bestTest = 1\n",
      "bestIteration = 8\n",
      "\n",
      "Metric AUC is not calculated on train by default. To calculate this metric on train, add hints=skip_train~false to metric parameters.\n",
      "\n",
      "bestTest = 1\n",
      "bestIteration = 4\n",
      "\n",
      "Metric AUC is not calculated on train by default. To calculate this metric on train, add hints=skip_train~false to metric parameters.\n",
      "\n",
      "bestTest = 1\n",
      "bestIteration = 4\n",
      "\n",
      "Metric AUC is not calculated on train by default. To calculate this metric on train, add hints=skip_train~false to metric parameters.\n",
      "\n",
      "bestTest = 1\n",
      "bestIteration = 9\n",
      "\n",
      "Metric AUC is not calculated on train by default. To calculate this metric on train, add hints=skip_train~false to metric parameters.\n",
      "\n",
      "bestTest = 1\n",
      "bestIteration = 9\n",
      "\n",
      "Metric AUC is not calculated on train by default. To calculate this metric on train, add hints=skip_train~false to metric parameters.\n",
      "\n",
      "bestTest = 1\n",
      "bestIteration = 6\n",
      "\n",
      "Metric AUC is not calculated on train by default. To calculate this metric on train, add hints=skip_train~false to metric parameters.\n",
      "\n",
      "bestTest = 1\n",
      "bestIteration = 6\n",
      "\n",
      "Metric AUC is not calculated on train by default. To calculate this metric on train, add hints=skip_train~false to metric parameters.\n",
      "\n",
      "bestTest = 1\n",
      "bestIteration = 15\n",
      "\n",
      "Metric AUC is not calculated on train by default. To calculate this metric on train, add hints=skip_train~false to metric parameters.\n",
      "\n",
      "bestTest = 1\n",
      "bestIteration = 15\n",
      "\n",
      "Metric AUC is not calculated on train by default. To calculate this metric on train, add hints=skip_train~false to metric parameters.\n",
      "\n",
      "bestTest = 1\n",
      "bestIteration = 10\n",
      "\n",
      "Metric AUC is not calculated on train by default. To calculate this metric on train, add hints=skip_train~false to metric parameters.\n",
      "\n",
      "bestTest = 1\n",
      "bestIteration = 10\n",
      "\n",
      "Metric AUC is not calculated on train by default. To calculate this metric on train, add hints=skip_train~false to metric parameters.\n",
      "\n",
      "bestTest = 1\n",
      "bestIteration = 7\n",
      "\n",
      "Metric AUC is not calculated on train by default. To calculate this metric on train, add hints=skip_train~false to metric parameters.\n",
      "\n",
      "bestTest = 1\n",
      "bestIteration = 7\n",
      "\n",
      "Metric AUC is not calculated on train by default. To calculate this metric on train, add hints=skip_train~false to metric parameters.\n",
      "\n",
      "bestTest = 1\n",
      "bestIteration = 6\n",
      "\n",
      "Metric AUC is not calculated on train by default. To calculate this metric on train, add hints=skip_train~false to metric parameters.\n",
      "\n",
      "bestTest = 1\n",
      "bestIteration = 6\n",
      "\n",
      "Metric AUC is not calculated on train by default. To calculate this metric on train, add hints=skip_train~false to metric parameters.\n",
      "\n",
      "bestTest = 1\n",
      "bestIteration = 14\n",
      "\n",
      "Metric AUC is not calculated on train by default. To calculate this metric on train, add hints=skip_train~false to metric parameters.\n",
      "\n",
      "bestTest = 1\n",
      "bestIteration = 14\n",
      "\n",
      "Metric AUC is not calculated on train by default. To calculate this metric on train, add hints=skip_train~false to metric parameters.\n",
      "\n",
      "bestTest = 1\n",
      "bestIteration = 10\n",
      "\n",
      "Metric AUC is not calculated on train by default. To calculate this metric on train, add hints=skip_train~false to metric parameters.\n",
      "\n",
      "bestTest = 1\n",
      "bestIteration = 10\n",
      "\n",
      "Metric AUC is not calculated on train by default. To calculate this metric on train, add hints=skip_train~false to metric parameters.\n",
      "\n",
      "bestTest = 1\n",
      "bestIteration = 4\n",
      "\n",
      "Metric AUC is not calculated on train by default. To calculate this metric on train, add hints=skip_train~false to metric parameters.\n",
      "\n",
      "bestTest = 1\n",
      "bestIteration = 4\n",
      "\n",
      "Metric AUC is not calculated on train by default. To calculate this metric on train, add hints=skip_train~false to metric parameters.\n",
      "\n",
      "bestTest = 1\n",
      "bestIteration = 11\n",
      "\n",
      "Metric AUC is not calculated on train by default. To calculate this metric on train, add hints=skip_train~false to metric parameters.\n",
      "\n",
      "bestTest = 1\n",
      "bestIteration = 11\n",
      "\n",
      "Metric AUC is not calculated on train by default. To calculate this metric on train, add hints=skip_train~false to metric parameters.\n",
      "\n",
      "bestTest = 1\n",
      "bestIteration = 8\n",
      "\n",
      "Metric AUC is not calculated on train by default. To calculate this metric on train, add hints=skip_train~false to metric parameters.\n",
      "\n",
      "bestTest = 1\n",
      "bestIteration = 8\n",
      "\n",
      "Metric AUC is not calculated on train by default. To calculate this metric on train, add hints=skip_train~false to metric parameters.\n",
      "\n",
      "bestTest = 1\n",
      "bestIteration = 14\n",
      "\n",
      "Metric AUC is not calculated on train by default. To calculate this metric on train, add hints=skip_train~false to metric parameters.\n",
      "\n",
      "bestTest = 1\n",
      "bestIteration = 14\n",
      "\n",
      "Metric AUC is not calculated on train by default. To calculate this metric on train, add hints=skip_train~false to metric parameters.\n",
      "\n",
      "bestTest = 1\n",
      "bestIteration = 3\n",
      "\n",
      "Metric AUC is not calculated on train by default. To calculate this metric on train, add hints=skip_train~false to metric parameters.\n",
      "\n",
      "bestTest = 1\n",
      "bestIteration = 3\n",
      "\n",
      "Metric AUC is not calculated on train by default. To calculate this metric on train, add hints=skip_train~false to metric parameters.\n",
      "\n",
      "bestTest = 1\n",
      "bestIteration = 6\n",
      "\n",
      "Metric AUC is not calculated on train by default. To calculate this metric on train, add hints=skip_train~false to metric parameters.\n",
      "\n",
      "bestTest = 1\n",
      "bestIteration = 6\n",
      "\n",
      "Metric AUC is not calculated on train by default. To calculate this metric on train, add hints=skip_train~false to metric parameters.\n",
      "\n",
      "bestTest = 1\n",
      "bestIteration = 3\n",
      "\n",
      "Metric AUC is not calculated on train by default. To calculate this metric on train, add hints=skip_train~false to metric parameters.\n",
      "\n",
      "bestTest = 1\n",
      "bestIteration = 3\n",
      "\n",
      "Metric AUC is not calculated on train by default. To calculate this metric on train, add hints=skip_train~false to metric parameters.\n",
      "\n",
      "bestTest = 1\n",
      "bestIteration = 17\n",
      "\n",
      "Metric AUC is not calculated on train by default. To calculate this metric on train, add hints=skip_train~false to metric parameters.\n",
      "\n",
      "bestTest = 1\n",
      "bestIteration = 17\n",
      "\n",
      "Metric AUC is not calculated on train by default. To calculate this metric on train, add hints=skip_train~false to metric parameters.\n",
      "\n",
      "bestTest = 1\n",
      "bestIteration = 3\n",
      "\n",
      "Metric AUC is not calculated on train by default. To calculate this metric on train, add hints=skip_train~false to metric parameters.\n",
      "\n",
      "bestTest = 1\n",
      "bestIteration = 3\n",
      "\n",
      "Metric AUC is not calculated on train by default. To calculate this metric on train, add hints=skip_train~false to metric parameters.\n",
      "\n",
      "bestTest = 1\n",
      "bestIteration = 11\n",
      "\n",
      "Metric AUC is not calculated on train by default. To calculate this metric on train, add hints=skip_train~false to metric parameters.\n",
      "\n",
      "bestTest = 1\n",
      "bestIteration = 11\n",
      "\n",
      "Metric AUC is not calculated on train by default. To calculate this metric on train, add hints=skip_train~false to metric parameters.\n",
      "\n",
      "bestTest = 1\n",
      "bestIteration = 9\n",
      "\n",
      "Metric AUC is not calculated on train by default. To calculate this metric on train, add hints=skip_train~false to metric parameters.\n",
      "\n",
      "bestTest = 1\n",
      "bestIteration = 9\n",
      "\n",
      "Metric AUC is not calculated on train by default. To calculate this metric on train, add hints=skip_train~false to metric parameters.\n",
      "\n",
      "bestTest = 1\n",
      "bestIteration = 24\n",
      "\n",
      "Metric AUC is not calculated on train by default. To calculate this metric on train, add hints=skip_train~false to metric parameters.\n",
      "\n",
      "bestTest = 1\n",
      "bestIteration = 24\n",
      "\n",
      "Metric AUC is not calculated on train by default. To calculate this metric on train, add hints=skip_train~false to metric parameters.\n",
      "\n",
      "bestTest = 1\n",
      "bestIteration = 10\n",
      "\n",
      "Metric AUC is not calculated on train by default. To calculate this metric on train, add hints=skip_train~false to metric parameters.\n",
      "\n",
      "bestTest = 1\n",
      "bestIteration = 10\n",
      "\n",
      "Metric AUC is not calculated on train by default. To calculate this metric on train, add hints=skip_train~false to metric parameters.\n",
      "\n",
      "bestTest = 1\n",
      "bestIteration = 15\n",
      "\n",
      "Metric AUC is not calculated on train by default. To calculate this metric on train, add hints=skip_train~false to metric parameters.\n",
      "\n",
      "bestTest = 1\n",
      "bestIteration = 15\n",
      "\n",
      "Metric AUC is not calculated on train by default. To calculate this metric on train, add hints=skip_train~false to metric parameters.\n",
      "\n",
      "bestTest = 1\n",
      "bestIteration = 11\n",
      "\n",
      "Metric AUC is not calculated on train by default. To calculate this metric on train, add hints=skip_train~false to metric parameters.\n",
      "\n",
      "bestTest = 1\n",
      "bestIteration = 11\n",
      "\n",
      "Metric AUC is not calculated on train by default. To calculate this metric on train, add hints=skip_train~false to metric parameters.\n",
      "\n",
      "bestTest = 1\n",
      "bestIteration = 17\n",
      "\n",
      "Metric AUC is not calculated on train by default. To calculate this metric on train, add hints=skip_train~false to metric parameters.\n",
      "\n",
      "bestTest = 1\n",
      "bestIteration = 17\n",
      "\n",
      "Metric AUC is not calculated on train by default. To calculate this metric on train, add hints=skip_train~false to metric parameters.\n",
      "\n",
      "bestTest = 1\n",
      "bestIteration = 14\n",
      "\n",
      "Metric AUC is not calculated on train by default. To calculate this metric on train, add hints=skip_train~false to metric parameters.\n",
      "\n",
      "bestTest = 1\n",
      "bestIteration = 14\n",
      "\n",
      "Metric AUC is not calculated on train by default. To calculate this metric on train, add hints=skip_train~false to metric parameters.\n",
      "\n",
      "bestTest = 1\n",
      "bestIteration = 8\n",
      "\n",
      "Metric AUC is not calculated on train by default. To calculate this metric on train, add hints=skip_train~false to metric parameters.\n",
      "\n",
      "bestTest = 1\n",
      "bestIteration = 8\n",
      "\n",
      "Metric AUC is not calculated on train by default. To calculate this metric on train, add hints=skip_train~false to metric parameters.\n",
      "\n",
      "bestTest = 1\n",
      "bestIteration = 6\n",
      "\n",
      "Metric AUC is not calculated on train by default. To calculate this metric on train, add hints=skip_train~false to metric parameters.\n",
      "\n",
      "bestTest = 1\n",
      "bestIteration = 6\n",
      "\n",
      "Metric AUC is not calculated on train by default. To calculate this metric on train, add hints=skip_train~false to metric parameters.\n",
      "\n",
      "bestTest = 1\n",
      "bestIteration = 25\n",
      "\n",
      "Metric AUC is not calculated on train by default. To calculate this metric on train, add hints=skip_train~false to metric parameters.\n",
      "\n",
      "bestTest = 1\n",
      "bestIteration = 25\n",
      "\n",
      "Metric AUC is not calculated on train by default. To calculate this metric on train, add hints=skip_train~false to metric parameters.\n",
      "\n",
      "bestTest = 1\n",
      "bestIteration = 10\n",
      "\n",
      "Metric AUC is not calculated on train by default. To calculate this metric on train, add hints=skip_train~false to metric parameters.\n",
      "\n",
      "bestTest = 1\n",
      "bestIteration = 10\n",
      "\n",
      "Metric AUC is not calculated on train by default. To calculate this metric on train, add hints=skip_train~false to metric parameters.\n",
      "\n",
      "bestTest = 1\n",
      "bestIteration = 5\n",
      "\n",
      "Metric AUC is not calculated on train by default. To calculate this metric on train, add hints=skip_train~false to metric parameters.\n",
      "\n",
      "bestTest = 1\n",
      "bestIteration = 5\n",
      "\n",
      "Metric AUC is not calculated on train by default. To calculate this metric on train, add hints=skip_train~false to metric parameters.\n",
      "\n",
      "bestTest = 1\n",
      "bestIteration = 2\n",
      "\n",
      "Metric AUC is not calculated on train by default. To calculate this metric on train, add hints=skip_train~false to metric parameters.\n",
      "\n",
      "bestTest = 1\n",
      "bestIteration = 2\n",
      "\n",
      "Metric AUC is not calculated on train by default. To calculate this metric on train, add hints=skip_train~false to metric parameters.\n"
     ]
    }
   ],
   "source": [
    "best_params = grid_search_catboost(train_pool)"
   ]
  },
  {
   "cell_type": "code",
   "execution_count": 15,
   "metadata": {
    "collapsed": false,
    "pycharm": {
     "name": "#%%\n"
    }
   },
   "outputs": [
    {
     "data": {
      "text/plain": [
       "{'min_data_in_leaf': 3,\n",
       " 'depth': 3,\n",
       " 'iterations': 1000,\n",
       " 'grow_policy': 'SymmetricTree',\n",
       " 'verbose': False,\n",
       " 'eval_metric': 'AUC',\n",
       " 'loss_function': 'Logloss'}"
      ]
     },
     "execution_count": 15,
     "metadata": {},
     "output_type": "execute_result"
    }
   ],
   "source": [
    "clf = CatBoostClassifier(use_best_model=True, **best_params)\n",
    "best_params"
   ]
  },
  {
   "cell_type": "code",
   "execution_count": 16,
   "metadata": {
    "collapsed": false,
    "pycharm": {
     "name": "#%%\n"
    }
   },
   "outputs": [],
   "source": [
    "start = datetime.now()\n",
    "clf.fit(train_pool, eval_set=train_pool)\n",
    "end = datetime.now()"
   ]
  },
  {
   "cell_type": "code",
   "execution_count": 17,
   "metadata": {
    "collapsed": false,
    "pycharm": {
     "name": "#%%\n"
    }
   },
   "outputs": [
    {
     "data": {
      "text/plain": [
       "'visualizations/ThothIssuePredictorBoost.pdf'"
      ]
     },
     "execution_count": 17,
     "metadata": {},
     "output_type": "execute_result"
    }
   ],
   "source": [
    "dot_data = clf.plot_tree(0, pool=test_pool)\n",
    "graph = graphviz.Source(dot_data)\n",
    "graph.render(\"visualizations/ThothIssuePredictorBoost\", format=\"pdf\")"
   ]
  },
  {
   "cell_type": "code",
   "execution_count": 18,
   "metadata": {
    "collapsed": false,
    "pycharm": {
     "name": "#%%\n"
    }
   },
   "outputs": [
    {
     "name": "stdout",
     "output_type": "stream",
     "text": [
      "Train time: 0:00:00.710153\n",
      "Prediction time: 0:00:00.001347\n",
      "Number of errors: 1\n",
      "AUC: 0.9642857142857143\n",
      "Accuracy: 0.98989898989899\n",
      "Precision: 1.0\n",
      "Recall: 0.9285714285714286\n",
      "F1: 0.962962962962963\n",
      "              precision    recall  f1-score   support\n",
      "\n",
      "           0       0.99      1.00      0.99        85\n",
      "           1       1.00      0.93      0.96        14\n",
      "\n",
      "    accuracy                           0.99        99\n",
      "   macro avg       0.99      0.96      0.98        99\n",
      "weighted avg       0.99      0.99      0.99        99\n",
      "\n",
      "Confusion matrix for catboost\n",
      "[[85  0]\n",
      " [ 1 13]]\n"
     ]
    },
    {
     "data": {
      "image/png": "[encoded data removed]",
      "text/plain": [
       "<Figure size 432x288 with 2 Axes>"
      ]
     },
     "metadata": {
      "needs_background": "light"
     },
     "output_type": "display_data"
    },
    {
     "data": {
      "image/png": "[encoded data removed]",
      "text/plain": [
       "<Figure size 432x288 with 1 Axes>"
      ]
     },
     "metadata": {
      "needs_background": "light"
     },
     "output_type": "display_data"
    }
   ],
   "source": [
    "catboost_evaluation = ModelEvaluation(\"catboost\", clf, end - start, test_pool, y_test)\n",
    "catboost_evaluation.predict_and_save()\n",
    "catboost_evaluation.print()"
   ]
  },
  {
   "cell_type": "markdown",
   "execution_count": 21,
   "metadata": {
    "collapsed": false,
    "pycharm": {
     "name": "#%% md\n"
    }
   },
   "outputs": [
    {
     "data": {
      "text/html": "<div>\n<style scoped>\n    .dataframe tbody tr th:only-of-type {\n        vertical-align: middle;\n    }\n\n    .dataframe tbody tr th {\n        vertical-align: top;\n    }\n\n    .dataframe thead th {\n        text-align: right;\n    }\n</style>\n<table border=\"1\" class=\"dataframe\">\n  <thead>\n    <tr style=\"text-align: right;\">\n      <th></th>\n      <th>iterations</th>\n      <th>test-AUC-mean</th>\n      <th>test-AUC-std</th>\n      <th>test-Logloss-mean</th>\n      <th>test-Logloss-std</th>\n      <th>train-Logloss-mean</th>\n      <th>train-Logloss-std</th>\n    </tr>\n  </thead>\n  <tbody>\n    <tr>\n      <th>0</th>\n      <td>0</td>\n      <td>0.954960</td>\n      <td>0.007816</td>\n      <td>0.623425</td>\n      <td>0.001968</td>\n      <td>0.622717</td>\n      <td>0.000376</td>\n    </tr>\n    <tr>\n      <th>1</th>\n      <td>1</td>\n      <td>0.974542</td>\n      <td>0.004537</td>\n      <td>0.565738</td>\n      <td>0.012062</td>\n      <td>0.565798</td>\n      <td>0.009917</td>\n    </tr>\n    <tr>\n      <th>2</th>\n      <td>2</td>\n      <td>0.982789</td>\n      <td>0.008002</td>\n      <td>0.512249</td>\n      <td>0.009236</td>\n      <td>0.511424</td>\n      <td>0.007609</td>\n    </tr>\n    <tr>\n      <th>3</th>\n      <td>3</td>\n      <td>0.985406</td>\n      <td>0.006432</td>\n      <td>0.468349</td>\n      <td>0.018789</td>\n      <td>0.467764</td>\n      <td>0.017121</td>\n    </tr>\n    <tr>\n      <th>4</th>\n      <td>4</td>\n      <td>0.987592</td>\n      <td>0.009734</td>\n      <td>0.421707</td>\n      <td>0.017859</td>\n      <td>0.421007</td>\n      <td>0.016913</td>\n    </tr>\n    <tr>\n      <th>...</th>\n      <td>...</td>\n      <td>...</td>\n      <td>...</td>\n      <td>...</td>\n      <td>...</td>\n      <td>...</td>\n      <td>...</td>\n    </tr>\n    <tr>\n      <th>995</th>\n      <td>995</td>\n      <td>0.995266</td>\n      <td>0.006695</td>\n      <td>0.028982</td>\n      <td>0.031662</td>\n      <td>0.000451</td>\n      <td>0.000385</td>\n    </tr>\n    <tr>\n      <th>996</th>\n      <td>996</td>\n      <td>0.995266</td>\n      <td>0.006695</td>\n      <td>0.028979</td>\n      <td>0.031666</td>\n      <td>0.000451</td>\n      <td>0.000384</td>\n    </tr>\n    <tr>\n      <th>997</th>\n      <td>997</td>\n      <td>0.995266</td>\n      <td>0.006695</td>\n      <td>0.028981</td>\n      <td>0.031664</td>\n      <td>0.000451</td>\n      <td>0.000384</td>\n    </tr>\n    <tr>\n      <th>998</th>\n      <td>998</td>\n      <td>0.995266</td>\n      <td>0.006695</td>\n      <td>0.028978</td>\n      <td>0.031668</td>\n      <td>0.000450</td>\n      <td>0.000384</td>\n    </tr>\n    <tr>\n      <th>999</th>\n      <td>999</td>\n      <td>0.995266</td>\n      <td>0.006695</td>\n      <td>0.028981</td>\n      <td>0.031664</td>\n      <td>0.000450</td>\n      <td>0.000383</td>\n    </tr>\n  </tbody>\n</table>\n<p>1000 rows × 7 columns</p>\n</div>",
      "text/plain": "     iterations  test-AUC-mean  test-AUC-std  test-Logloss-mean  \\\n0             0       0.954960      0.007816           0.623425   \n1             1       0.974542      0.004537           0.565738   \n2             2       0.982789      0.008002           0.512249   \n3             3       0.985406      0.006432           0.468349   \n4             4       0.987592      0.009734           0.421707   \n..          ...            ...           ...                ...   \n995         995       0.995266      0.006695           0.028982   \n996         996       0.995266      0.006695           0.028979   \n997         997       0.995266      0.006695           0.028981   \n998         998       0.995266      0.006695           0.028978   \n999         999       0.995266      0.006695           0.028981   \n\n     test-Logloss-std  train-Logloss-mean  train-Logloss-std  \n0            0.001968            0.622717           0.000376  \n1            0.012062            0.565798           0.009917  \n2            0.009236            0.511424           0.007609  \n3            0.018789            0.467764           0.017121  \n4            0.017859            0.421007           0.016913  \n..                ...                 ...                ...  \n995          0.031662            0.000451           0.000385  \n996          0.031666            0.000451           0.000384  \n997          0.031664            0.000451           0.000384  \n998          0.031668            0.000450           0.000384  \n999          0.031664            0.000450           0.000383  \n\n[1000 rows x 7 columns]"
     },
     "execution_count": 20,
     "metadata": {},
     "output_type": "execute_result"
    }
   ],
   "source": [
    "## Model Comparison\n",
    "\n",
    "This section compares used models and visualizes the results."
   ]
  },
  {
   "cell_type": "code",
   "execution_count": 19,
   "metadata": {
    "collapsed": false,
    "pycharm": {
     "name": "#%%\n"
    }
   },
   "outputs": [
    {
     "data": {
      "text/plain": [
       "'--------------------------------------------'"
      ]
     },
     "metadata": {},
     "output_type": "display_data"
    },
    {
     "data": {
      "text/plain": [
       "'Results for each category from best to worst'"
      ]
     },
     "metadata": {},
     "output_type": "display_data"
    },
    {
     "data": {
      "text/plain": [
       "'--------------------------------------------'"
      ]
     },
     "metadata": {},
     "output_type": "display_data"
    },
    {
     "name": "stdout",
     "output_type": "stream",
     "text": [
      "train_time:\n",
      "1. scikit: 0:00:00.002910\n",
      "2. catboost: 0:00:00.710153\n"
     ]
    },
    {
     "data": {
      "image/png": "[encoded data removed]",
      "text/plain": [
       "<Figure size 432x288 with 1 Axes>"
      ]
     },
     "metadata": {},
     "output_type": "display_data"
    },
    {
     "name": "stdout",
     "output_type": "stream",
     "text": [
      "prediction_time:\n",
      "1. catboost: 0:00:00.001347\n",
      "2. scikit: 0:00:00.003262\n"
     ]
    },
    {
     "data": {
      "image/png": "[encoded data removed]",
      "text/plain": [
       "<Figure size 432x288 with 1 Axes>"
      ]
     },
     "metadata": {},
     "output_type": "display_data"
    },
    {
     "name": "stdout",
     "output_type": "stream",
     "text": [
      "number_of_errors:\n",
      "1. scikit: 0\n",
      "2. catboost: 1\n"
     ]
    },
    {
     "data": {
      "image/png": "[encoded data removed]",
      "text/plain": [
       "<Figure size 432x288 with 1 Axes>"
      ]
     },
     "metadata": {},
     "output_type": "display_data"
    },
    {
     "name": "stdout",
     "output_type": "stream",
     "text": [
      "auc:\n",
      "1. scikit: 1.0\n",
      "2. catboost: 0.9642857142857143\n"
     ]
    },
    {
     "data": {
      "image/png": "[encoded data removed]",
      "text/plain": [
       "<Figure size 432x288 with 1 Axes>"
      ]
     },
     "metadata": {},
     "output_type": "display_data"
    },
    {
     "name": "stdout",
     "output_type": "stream",
     "text": [
      "accuracy:\n",
      "1. scikit: 1.0\n",
      "2. catboost: 0.98989898989899\n"
     ]
    },
    {
     "data": {
      "image/png": "[encoded data removed]",
      "text/plain": [
       "<Figure size 432x288 with 1 Axes>"
      ]
     },
     "metadata": {},
     "output_type": "display_data"
    },
    {
     "name": "stdout",
     "output_type": "stream",
     "text": [
      "precision:\n",
      "1. scikit: 1.0\n",
      "2. catboost: 1.0\n"
     ]
    },
    {
     "data": {
      "image/png": "[encoded data removed]",
      "text/plain": [
       "<Figure size 432x288 with 1 Axes>"
      ]
     },
     "metadata": {},
     "output_type": "display_data"
    },
    {
     "name": "stdout",
     "output_type": "stream",
     "text": [
      "recall:\n",
      "1. scikit: 1.0\n",
      "2. catboost: 1.0\n"
     ]
    },
    {
     "data": {
      "image/png": "[encoded data removed]",
      "text/plain": [
       "<Figure size 432x288 with 1 Axes>"
      ]
     },
     "metadata": {},
     "output_type": "display_data"
    },
    {
     "name": "stdout",
     "output_type": "stream",
     "text": [
      "f1:\n",
      "1. scikit: 1.0\n",
      "2. catboost: 0.962962962962963\n"
     ]
    },
    {
     "data": {
      "image/png": "[encoded data removed]",
      "text/plain": [
       "<Figure size 432x288 with 1 Axes>"
      ]
     },
     "metadata": {},
     "output_type": "display_data"
    },
    {
     "data": {
      "text/plain": [
       "'-----------------------------'"
      ]
     },
     "metadata": {},
     "output_type": "display_data"
    },
    {
     "data": {
      "text/plain": [
       "'Best models for each category'"
      ]
     },
     "metadata": {},
     "output_type": "display_data"
    },
    {
     "data": {
      "text/plain": [
       "'-----------------------------'"
      ]
     },
     "metadata": {},
     "output_type": "display_data"
    },
    {
     "name": "stdout",
     "output_type": "stream",
     "text": [
      "train_time: scikit\n",
      "prediction_time: catboost\n",
      "number_of_errors: scikit\n",
      "auc: scikit\n",
      "accuracy: scikit\n",
      "precision: scikit\n",
      "recall: scikit\n",
      "f1: scikit\n"
     ]
    }
   ],
   "source": [
    "metrics = Metrics([scikit_evaluation, catboost_evaluation])\n",
    "\n",
    "metrics.sort_metrics()\n",
    "display(\"--------------------------------------------\")\n",
    "display(\"Results for each category from best to worst\")\n",
    "display(\"--------------------------------------------\")\n",
    "metrics.print_results()\n",
    "\n",
    "display(\"-----------------------------\")\n",
    "display(\"Best models for each category\")\n",
    "display(\"-----------------------------\")\n",
    "metrics.print_best()"
   ]
  },
  {
   "cell_type": "markdown",
   "metadata": {
    "collapsed": false
   },
   "source": [
    "### Analysis of visualized trees\n",
    "\n",
    "Cell below filters dataset using conditions from Scikit DT visualization.\n",
    "Main reason to doing so is trying to find the reason why certain software\n",
    "stacks failed. Displayed dataframe show that all f\n",
    "ailed software stack\n",
    "share the same version of package Utllib3.\n",
    "\n",
    "This [link](https://thoth-station.ninja/j/tf_21_urllib3.html) is a documentation of this issue\n",
    "occurring during other resolutions."
   ]
  },
  {
   "cell_type": "code",
   "execution_count": 20,
   "metadata": {
    "collapsed": false,
    "pycharm": {
     "name": "#%%\n"
    }
   },
   "outputs": [
    {
     "data": {
      "text/html": [
       "<div>\n",
       "<style scoped>\n",
       "    .dataframe tbody tr th:only-of-type {\n",
       "        vertical-align: middle;\n",
       "    }\n",
       "\n",
       "    .dataframe tbody tr th {\n",
       "        vertical-align: top;\n",
       "    }\n",
       "\n",
       "    .dataframe thead th {\n",
       "        text-align: right;\n",
       "    }\n",
       "</style>\n",
       "<table border=\"1\" class=\"dataframe\">\n",
       "  <thead>\n",
       "    <tr style=\"text-align: right;\">\n",
       "      <th></th>\n",
       "      <th>urllib3_major</th>\n",
       "      <th>urllib3_minor</th>\n",
       "      <th>urllib3_micro</th>\n",
       "    </tr>\n",
       "  </thead>\n",
       "  <tbody>\n",
       "    <tr>\n",
       "      <th>210</th>\n",
       "      <td>1</td>\n",
       "      <td>5</td>\n",
       "      <td>0</td>\n",
       "    </tr>\n",
       "  </tbody>\n",
       "</table>\n",
       "</div>"
      ],
      "text/plain": [
       "     urllib3_major  urllib3_minor  urllib3_micro\n",
       "210              1              5              0"
      ]
     },
     "execution_count": 20,
     "metadata": {},
     "output_type": "execute_result"
    }
   ],
   "source": [
    "urllib_cols = [\"urllib3_major\", \"urllib3_minor\", \"urllib3_micro\"]\n",
    "chardet_minor_filter = issues_df[\"chardet_minor\"] > 1.555\n",
    "urllib_df = issues_df[chardet_minor_filter]\n",
    "urllib_minor_filter = urllib_df[\"urllib3_minor\"] <= 11.209\n",
    "urllib_df = urllib_df[urllib_minor_filter]\n",
    "urllib_micro_filter = urllib_df[\"urllib3_minor\"] <= 8.654\n",
    "urllib_df = urllib_df[urllib_micro_filter][urllib_cols]\n",
    "urllib_df.drop_duplicates()"
   ]
  }
 ],
 "metadata": {
  "kernelspec": {
   "display_name": "Python 3",
   "language": "python",
   "name": "python3"
  },
  "language_info": {
   "codemirror_mode": {
    "name": "ipython",
    "version": 3
   },
   "file_extension": ".py",
   "mimetype": "text/x-python",
   "name": "python",
   "nbconvert_exporter": "python",
   "pygments_lexer": "ipython3",
   "version": "3.8.5"
  }
 },
 "nbformat": 4,
 "nbformat_minor": 4
}
